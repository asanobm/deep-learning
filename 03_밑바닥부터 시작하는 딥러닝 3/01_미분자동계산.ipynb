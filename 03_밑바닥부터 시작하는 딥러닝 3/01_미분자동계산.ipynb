{
 "cells": [
  {
   "cell_type": "markdown",
   "metadata": {},
   "source": [
    "# 미분 자동 계산\n"
   ]
  },
  {
   "cell_type": "markdown",
   "metadata": {},
   "source": [
    "## 1 상자로서의 변수\n",
    "\n",
    "### 1.1 변수란\n",
    "\n",
    "변수란? 프로그래밍 입문서에서 변수는 상자라고 설명한다. 상자에 값을 담아두고 그 값을 사용할 수 있다.\n",
    "\n",
    "- 상자와 데이터는 별개다\n",
    "- 상자에는 데이터가 들어간다\n",
    "- 상자 속을 들여다보면 데이터를 알 수 있다\n",
    "\n",
    "### 1.2 Variable 클래스 구현\n",
    "\n",
    "```python\n",
    "class Variable:\n",
    "    def __init__(self, data):\n",
    "        self.data = data\n",
    "```\n",
    "\n",
    "**init** 메서드는 Variable 클래스의 생성자이다. 생성자는 인스턴스를 초기화하는 메서드이다.\n"
   ]
  },
  {
   "cell_type": "code",
   "execution_count": 1,
   "metadata": {},
   "outputs": [
    {
     "name": "stdout",
     "output_type": "stream",
     "text": [
      "1.0\n"
     ]
    }
   ],
   "source": [
    "import numpy as np\n",
    "\n",
    "\n",
    "class Variable:\n",
    "    def __init__(self, data):\n",
    "        self.data = data\n",
    "\n",
    "\n",
    "data = np.array(1.0)\n",
    "x = Variable(data)\n",
    "print(x.data)"
   ]
  },
  {
   "cell_type": "markdown",
   "metadata": {},
   "source": [
    "머신러닝 시스템은 기본적으로 `다차원 배열`을 사용한다.\n"
   ]
  },
  {
   "cell_type": "code",
   "execution_count": 2,
   "metadata": {},
   "outputs": [
    {
     "name": "stdout",
     "output_type": "stream",
     "text": [
      "2.0\n"
     ]
    }
   ],
   "source": [
    "x.data = np.array(2.0)\n",
    "print(x.data)"
   ]
  },
  {
   "cell_type": "markdown",
   "metadata": {},
   "source": [
    "## 2 변수를 낳는 함수\n",
    "\n",
    "### 2.1 함수란\n",
    "\n",
    "어떤 변수로부터 다른 변수의 대응 관계를 정한 것 함수 $f(x) = x^{2}$이 있다고 할때 $y=f(x)$라고 하면 $y$와$x$의 관계가 함수 $f$에 의해 결정된다. 즉 함수 $f$에 의해 $y$는 $x$의 제곱이다 라는 관계가 성립한다.\n"
   ]
  },
  {
   "cell_type": "markdown",
   "metadata": {},
   "source": [
    "### 2.2 Function 클래스 구현\n",
    "\n",
    "- Function클래스는 Variable인스턴스를 입력받아 Variable인스턴스를 출력한다.\n",
    "- Variable 인스턴스의 실제 데이터는 인스턴스 변수인 data에 저장된다.\n"
   ]
  },
  {
   "cell_type": "code",
   "execution_count": 3,
   "metadata": {},
   "outputs": [],
   "source": [
    "class Function:\n",
    "    def __call__(self, input):\n",
    "        x = input.data\n",
    "        y = x**2\n",
    "        output = Variable(y)\n",
    "        return output"
   ]
  },
  {
   "cell_type": "markdown",
   "metadata": {},
   "source": [
    "`__call__`메서드의 인수 input은 Variable 인스턴스라고 가정한다. 따라서 실제 데이터는 input.data에 존재한다.\n",
    "데이터를 꺼낸 후 원하는 계산을 하고 결과를 Variable 인스턴스로 되돌려준다.\n"
   ]
  },
  {
   "cell_type": "code",
   "execution_count": 4,
   "metadata": {},
   "outputs": [
    {
     "name": "stdout",
     "output_type": "stream",
     "text": [
      "<class '__main__.Variable'>\n",
      "100\n"
     ]
    }
   ],
   "source": [
    "x = Variable(np.array(10))\n",
    "f = Function()\n",
    "y = f(x)\n",
    "print(type(y))\n",
    "print(y.data)"
   ]
  },
  {
   "cell_type": "code",
   "execution_count": 5,
   "metadata": {},
   "outputs": [
    {
     "name": "stdout",
     "output_type": "stream",
     "text": [
      "<class 'framework.variable.Variable'>\n",
      "100\n"
     ]
    },
    {
     "name": "stderr",
     "output_type": "stream",
     "text": [
      "/Users/asanobm/workspace/asanobm/pytorch-study/밑바닥부터 시작하는 딥러닝 3/framework/function.py:51: SyntaxWarning: invalid escape sequence '\\e'\n",
      "  \"\"\"$$y = \\exp(x)$$\n",
      "/Users/asanobm/workspace/asanobm/pytorch-study/밑바닥부터 시작하는 딥러닝 3/framework/function.py:56: SyntaxWarning: invalid escape sequence '\\e'\n",
      "  \"\"\"$$\\frac{dy}{dx} = \\exp(x)$$\n"
     ]
    }
   ],
   "source": [
    "import numpy as np\n",
    "from framework.variable import Variable\n",
    "from framework.function import Square\n",
    "\n",
    "x = Variable(np.array(10))\n",
    "f = Square()\n",
    "y = f(x)\n",
    "print(type(y))\n",
    "print(y.data)"
   ]
  },
  {
   "cell_type": "markdown",
   "metadata": {},
   "source": [
    "## 3 함수 연결\n",
    "\n",
    "### 3.1 Exp 함수 구현\n",
    "\n",
    "$y=e^{x}$이는 계산을 하는 함수 $e$는 자연로그 밑**base of the natural logarithm**이다.\n"
   ]
  },
  {
   "cell_type": "code",
   "execution_count": 6,
   "metadata": {},
   "outputs": [],
   "source": [
    "import numpy as np\n",
    "from framework.function import Function\n",
    "\n",
    "\n",
    "class Exp(Function):\n",
    "    def forward(self, x):\n",
    "        return np.exp(x)"
   ]
  },
  {
   "cell_type": "markdown",
   "metadata": {},
   "source": [
    "## 3.2 함수 연결\n",
    "\n",
    "Function 클래스의 **call** 메서드는 입력과 출력이 모두 Variable 인스턴스이다.\n"
   ]
  },
  {
   "cell_type": "code",
   "execution_count": 7,
   "metadata": {},
   "outputs": [
    {
     "name": "stdout",
     "output_type": "stream",
     "text": [
      "1.648721270700128\n"
     ]
    }
   ],
   "source": [
    "import numpy as np\n",
    "from framework.function import Square, Exp\n",
    "from framework.variable import Variable\n",
    "\n",
    "A = Square()\n",
    "B = Exp()\n",
    "C = Square()\n",
    "\n",
    "x = Variable(np.array(0.5))\n",
    "\n",
    "a = A(x)\n",
    "b = B(a)\n",
    "y = C(b)\n",
    "\n",
    "print(y.data)"
   ]
  },
  {
   "cell_type": "markdown",
   "metadata": {},
   "source": [
    "3개의 함수 A, B, C를 연이어 적용했다. 중간에 등장하는 4개의 변수 x, a, b, y가 모두 Variable 인스턴스이다. 이처럼 함수를 연결하여 사용할 수 있는 것은 모두 Function 클래스의 `__call__` 메서드가 Variable 인스턴스를 입력받고 Variable 인스턴스를 출력하기 때문이다.\n"
   ]
  },
  {
   "cell_type": "markdown",
   "metadata": {},
   "source": [
    "## 4 수치 미분\n",
    "\n",
    "`Variable`클래스와 `Function`클래스를 구현했다.\n",
    "\n",
    "### 4.1 미분이란\n",
    "\n",
    "미분이란 무엇인가? 미분은 `변화율`을 뜻한다. 예를 들어 물체의 시간에 따른 위치 변화율(위치의 미분)은 속도가 된다.\n",
    "시간에 대한 속도 변화율(속도의 미분)은 가속도에 해당한다. 정확히는 `극한으로 짧은 시간(순간)에서의 변화량`이다.\n",
    "\n",
    "$$ f'(x) = \\lim\\_{h \\to 0} \\frac{f(x+h) - f(x)}{h} $$\n",
    "\n",
    "$\\lim_{h \\to 0}$은 $h$를 한없이 0에 가깝게 한다는 의미이다. 이를 수식으로 나타내면 $h$를 0으로 한없이 가깝게 한다는 것이다. $\\frac{f(x+h) - f(x)}{h}$는 $x$에서의 $f$의 변화량을 나타낸다. 이 변화량을 $h$에 대한 함수로 나타낸 것이 $f'(x)$이다.\n"
   ]
  },
  {
   "cell_type": "markdown",
   "metadata": {},
   "source": [
    "### 4.2 수치 미분 구현\n",
    "\n",
    "컴퓨터는 극한을 표현할 수 없으므로 $(=1e-4)$과 같은 매우 작은 값을 $h$를 극한과 비슷한 값으로 대체한다. 이렇게 미세한 $h$값을 이용해 미분을 계산하는 방법을 `수치 미분`이라고 한다.\n",
    "\n",
    "수치 미분은 작은 값을 사용하여 `진정한 미분`을 근사한다. 따라서 값에 어쩔 수 없는 오차가 포함된다. 이 근사 오차를 줄이는 방법으로 `중앙차분`이라는게 있다.\n",
    "중앙 차분은 $f(x)$와 $f(x+h)$의 차이를 구하는 대신 $f(x-h)와 f(x+h)$의 차이를 구한다.\n"
   ]
  },
  {
   "cell_type": "code",
   "execution_count": 12,
   "metadata": {},
   "outputs": [],
   "source": [
    "class Variable:\n",
    "    def __init__(self, data):\n",
    "        self.data = data\n",
    "        self.grad = None\n",
    "def numerical_diff(f, x, eps=1e-4):\n",
    "    \"\"\"수치 미분을 구하는 함수\"\"\"\n",
    "    x0 = Variable(x.data - eps)\n",
    "    x1 = Variable(x.data + eps)\n",
    "    y0 = f(x0)\n",
    "    y1 = f(x1)\n",
    "    return (y1.data - y0.data) / (2 * eps)"
   ]
  },
  {
   "cell_type": "markdown",
   "metadata": {},
   "source": [
    "실체 데이터는 Variable의 인스턴수 변수인 data에 들어 있다.\n"
   ]
  },
  {
   "cell_type": "code",
   "execution_count": 13,
   "metadata": {},
   "outputs": [
    {
     "name": "stdout",
     "output_type": "stream",
     "text": [
      "2.0\n",
      "4.000000000004\n"
     ]
    }
   ],
   "source": [
    "# from framework.variable import Variable\n",
    "# from framework.function import Square\n",
    "\n",
    "f = Square()\n",
    "x = Variable(np.array(2.0))\n",
    "dy = numerical_diff(f, x)\n",
    "print(x.data)\n",
    "print(dy)"
   ]
  },
  {
   "cell_type": "markdown",
   "metadata": {},
   "source": [
    "### 4.3 합성 함수의 미분\n",
    "\n",
    "$y=x^{2}$이라는 단순한 함수를 다루었다. 합성함수를 미분한다. $y=(e^{x^{2}})$이라는 계산에 대한 미분 $\\frac{dy}{dx}$를 구해보자.\n"
   ]
  },
  {
   "cell_type": "code",
   "execution_count": 14,
   "metadata": {},
   "outputs": [
    {
     "name": "stdout",
     "output_type": "stream",
     "text": [
      "3.2974426293330694\n"
     ]
    }
   ],
   "source": [
    "def f(x):\n",
    "    A = Square()\n",
    "    B = Exp()\n",
    "    C = Square()\n",
    "    return C(B(A(x)))\n",
    "\n",
    "\n",
    "x = Variable(np.array(0.5))\n",
    "dy = numerical_diff(f, x)\n",
    "print(dy)"
   ]
  },
  {
   "cell_type": "markdown",
   "metadata": {},
   "source": [
    "실행 결과를 보면 미분한 값이 3.297...이다. x를 0.5에서 작은 값만큼 변화시키면 y는 3.297...만큼 변화한다.\n"
   ]
  },
  {
   "cell_type": "markdown",
   "metadata": {},
   "source": [
    "### 4.4 수치 미분의 문제점\n",
    "\n",
    "수치 미분은 작은 오차를 가지고 있지만 계산에 따라 커질 수 있다. 또한 수치 미분은 계산량이 많다.\n"
   ]
  },
  {
   "cell_type": "markdown",
   "metadata": {},
   "source": [
    "## 5 역전파 이론\n",
    "\n",
    "역전파는 수치미분에 비해 오차량이 적다.\n",
    "\n",
    "### 5.1 연쇄 법칙\n",
    "\n",
    "연쇄 법칙 **chain rule**은 역전파를 이해는 열쇄이다. 밑바닥부터 시작하는 딥러닝 1,2,3,4권에서는 역전파를 설명한다. 그만큼 중요하다.\n",
    "\n",
    "연쇄 법칙은 여러 함수를 사슬처럼 연결하여 사용하는 모습을 빗댄 이름이다. 연쇄 법칙에 따르면 함숭 함수(여러 함수가 연결된 함수)의 미분은 구성 함수 각각을 미분한 후 곱한 것과 같다.\n",
    "\n",
    "$y=f(x)$라는 함수가 있고 이함수는 $a=A(x)$, $b=B(a), y=C(b)$와 같이 연결되어 있다고 하자. 이때 $y$를 $x$로 미분하면 다음과 같다.\n",
    "\n",
    "$$\n",
    "\\frac{dy}{dx} = \\frac{dy}{db} \\frac{db}{da} \\frac{da}{dx}\n",
    "$$\n",
    "\n",
    "$x$에 대한 $y$의 미분은 구성 함수 각각의 미분값을 모두 곱한 값과 같다.\n"
   ]
  },
  {
   "cell_type": "markdown",
   "metadata": {},
   "source": [
    "**연쇄법칙**\n",
    "\n",
    "- $x$에 대한 $y$의 미분은 구성 함수 각각의 미분값을 모두 곱한 값과 같다.\n",
    "- 함수의 미분은 각 함수의 국소적인 미분들로 분해할 수 있다.\n",
    "\n",
    "$$\\frac{dy}{dx} = \\frac{dy}{dy} \\frac{dy}{db} \\frac{db}{da} \\frac{da}{dx}$$\n",
    "\n",
    "$\\frac{dy}{dy}$는 자신에 대한 미분이라 항상 1이다.\n"
   ]
  },
  {
   "cell_type": "markdown",
   "metadata": {},
   "source": [
    "### 5.2 역전파의 원리 도출\n",
    "\n",
    "연쇄 법칙대로 해석하면 합성함수의 미분은 구성 함둘들의 미분의 곱으로 분해할 수 있다. `곱하는 순서`는 중요하지 않다.\n",
    "$$\\frac{dy}{dx} = ((\\frac{dy}{dy} \\frac{dy}{db}) \\frac{db}{da})\\frac{da}{dx}$$\n"
   ]
  },
  {
   "cell_type": "markdown",
   "metadata": {},
   "source": [
    "## 6 수동 역전파\n",
    "\n",
    "### 6.1 Variable 클래스 추가 구현\n",
    "\n",
    "통상값 {data}와 이에 대응하는 미분값 {grad}를 저장한다.\n"
   ]
  },
  {
   "cell_type": "code",
   "execution_count": 15,
   "metadata": {},
   "outputs": [],
   "source": [
    "class Variable:\n",
    "    def __init__(self, data):\n",
    "        self.data = data\n",
    "        self.grad = None  # 미분값을 저장하는 변수"
   ]
  },
  {
   "cell_type": "markdown",
   "metadata": {},
   "source": [
    "### 6.2 Function 클래스 추가 구현\n",
    "\n",
    "- 미분을 계산하는 역전파(backward)를 추가한다.\n",
    "- forward 메서드 호출시 건네받은 Variable 인스턴스를 기억해둔다.\n"
   ]
  },
  {
   "cell_type": "code",
   "execution_count": 16,
   "metadata": {},
   "outputs": [],
   "source": [
    "class Function:\n",
    "    def __call__(self, input):\n",
    "        x = input.data\n",
    "        y = self.forward(x)\n",
    "        output = Variable(y)\n",
    "        self.input = input  # 입력 변수를 기억(보관)한다.\n",
    "        return output\n",
    "\n",
    "    def forward(self, x):\n",
    "        raise NotImplementedError()\n",
    "\n",
    "    def backward(self, gy):\n",
    "        raise NotImplementedError()"
   ]
  },
  {
   "cell_type": "markdown",
   "metadata": {},
   "source": [
    "### 6.3 Square와 Exp 클래스 추가 구현\n",
    "\n",
    "Square클래스는 $y=x^{2}$을 계산하는 클래스이다. 미분은 $\\frac{dy}{dx}=2x$이다.\n"
   ]
  },
  {
   "cell_type": "code",
   "execution_count": 17,
   "metadata": {},
   "outputs": [],
   "source": [
    "class Square(Function):\n",
    "    def forward(self, x):\n",
    "        y = x**2\n",
    "        return y\n",
    "\n",
    "    def backward(self, gy):\n",
    "        x = self.input.data\n",
    "        gx = 2 * x * gy\n",
    "        return gx"
   ]
  },
  {
   "cell_type": "markdown",
   "metadata": {},
   "source": [
    "Exp클래스는 $y=e^{x}$를 계산하는 클래스이다. 미분은 $\\frac{dy}{dx}=e^{x}$이다.\n"
   ]
  },
  {
   "cell_type": "code",
   "execution_count": 18,
   "metadata": {},
   "outputs": [],
   "source": [
    "import numpy as np\n",
    "\n",
    "\n",
    "class Exp(Function):\n",
    "    def forward(self, x):\n",
    "        y = np.exp(x)\n",
    "        return y\n",
    "\n",
    "    def backward(self, gy):\n",
    "        x = self.input.data\n",
    "        gx = np.exp(x) * gy\n",
    "        return gx"
   ]
  },
  {
   "cell_type": "markdown",
   "metadata": {},
   "source": [
    "### 6.4 역전파 구현\n"
   ]
  },
  {
   "cell_type": "code",
   "execution_count": 19,
   "metadata": {},
   "outputs": [
    {
     "name": "stdout",
     "output_type": "stream",
     "text": [
      "3.297442541400256\n"
     ]
    }
   ],
   "source": [
    "import numpy as np\n",
    "from framework.variable import Variable\n",
    "from framework.function import Square, Exp\n",
    "\n",
    "A = Square()\n",
    "B = Exp()\n",
    "C = Square()\n",
    "\n",
    "x = Variable(np.array(0.5))\n",
    "a = A(x)\n",
    "b = B(a)\n",
    "y = C(b)\n",
    "\n",
    "y.grad = np.array(1.0)  # $$\\frac{dy}{dy} = 1$$ 이기 때문에 1.0부터 시작한다.\n",
    "b.grad = C.backward(y.grad)\n",
    "a.grad = B.backward(b.grad)\n",
    "x.grad = A.backward(a.grad)\n",
    "print(x.grad)"
   ]
  },
  {
   "cell_type": "markdown",
   "metadata": {},
   "source": [
    "## 7. 역전파 자동화\n"
   ]
  },
  {
   "cell_type": "code",
   "execution_count": 20,
   "metadata": {},
   "outputs": [],
   "source": [
    "import numpy as np\n",
    "from framework.variable import Variable\n",
    "from framework.function import Square, Exp\n",
    "\n",
    "A = Square()\n",
    "B = Exp()\n",
    "C = Square()\n",
    "\n",
    "x = Variable(np.array(0.5))\n",
    "a = A(x)\n",
    "b = B(a)\n",
    "y = C(b)\n",
    "\n",
    "assert y.creator == C\n",
    "assert y.creator.input == b\n",
    "assert y.creator.input.creator == B\n",
    "assert y.creator.input.creator.input == a\n",
    "assert y.creator.input.creator.input.creator == A\n",
    "assert y.creator.input.creator.input.creator.input == x"
   ]
  },
  {
   "cell_type": "code",
   "execution_count": 21,
   "metadata": {},
   "outputs": [],
   "source": [
    "y.grad = np.array(1.0)\n",
    "C = y.creator\n",
    "b = C.input\n",
    "b.grad = C.backward(y.grad)"
   ]
  },
  {
   "cell_type": "code",
   "execution_count": 22,
   "metadata": {},
   "outputs": [],
   "source": [
    "B = b.creator\n",
    "a = B.input\n",
    "a.grad = B.backward(b.grad)"
   ]
  },
  {
   "cell_type": "code",
   "execution_count": 23,
   "metadata": {},
   "outputs": [
    {
     "name": "stdout",
     "output_type": "stream",
     "text": [
      "3.297442541400256\n"
     ]
    }
   ],
   "source": [
    "A = a.creator\n",
    "x = A.input\n",
    "x.grad = A.backward(a.grad)\n",
    "print(x.grad)"
   ]
  },
  {
   "cell_type": "code",
   "execution_count": 24,
   "metadata": {},
   "outputs": [
    {
     "name": "stdout",
     "output_type": "stream",
     "text": [
      "3.297442541400256\n"
     ]
    }
   ],
   "source": [
    "import numpy as np\n",
    "from framework.variable import Variable\n",
    "from framework.function import Square, Exp\n",
    "\n",
    "A = Square()\n",
    "B = Exp()\n",
    "C = Square()\n",
    "\n",
    "x = Variable(np.array(0.5))\n",
    "a = A(x)\n",
    "b = B(a)\n",
    "y = C(b)\n",
    "\n",
    "y.grad = np.array(1.0)\n",
    "y.backward()\n",
    "print(x.grad)"
   ]
  },
  {
   "cell_type": "markdown",
   "metadata": {},
   "source": [
    "## 8 재귀에서 반복문으로\n",
    "\n",
    "```python\n",
    "class Variable:\n",
    "  ...\n",
    "  def backward(self):\n",
    "    functions = [self.creator]\n",
    "    while functions:\n",
    "      f = functions.pop()\n",
    "      x, y = f.input, f.output\n",
    "      x.grad = f.backward(y.grad)\n",
    "\n",
    "      if x.creator is not None:\n",
    "        functions.append(x.creator)\n",
    "```\n"
   ]
  },
  {
   "cell_type": "code",
   "execution_count": 25,
   "metadata": {},
   "outputs": [
    {
     "name": "stdout",
     "output_type": "stream",
     "text": [
      "3.297442541400256\n"
     ]
    }
   ],
   "source": [
    "import numpy as np\n",
    "from framework.variable import Variable\n",
    "from framework.function import Square, Exp\n",
    "\n",
    "A = Square()\n",
    "B = Exp()\n",
    "C = Square()\n",
    "\n",
    "x = Variable(np.array(0.5))\n",
    "a = A(x)\n",
    "b = B(a)\n",
    "y = C(b)\n",
    "\n",
    "y.grad = np.array(1.0)\n",
    "y.backward()\n",
    "print(x.grad)"
   ]
  },
  {
   "cell_type": "markdown",
   "metadata": {},
   "source": [
    "## 9 함수를 더 편리하게\n",
    "\n",
    "...\n"
   ]
  },
  {
   "cell_type": "markdown",
   "metadata": {},
   "source": [
    "### 9.1 파이썬 함수로 이용하기\n",
    "\n",
    "```python\n",
    "def square(x):\n",
    "  return Square()(x)\n",
    "```\n"
   ]
  },
  {
   "cell_type": "markdown",
   "metadata": {},
   "source": [
    "## 10 테스트\n",
    "\n",
    "테스트를 해야 실수를 줄일 수 있다.\n"
   ]
  },
  {
   "cell_type": "markdown",
   "metadata": {},
   "source": [
    "### 10.1 파이ㄴ 단위 테스트\n",
    "\n",
    "파이썬으로 단위 테스트를 할 때 표준 라이브러리인 unittest를 사용한다.\n"
   ]
  },
  {
   "cell_type": "code",
   "execution_count": 26,
   "metadata": {},
   "outputs": [
    {
     "name": "stderr",
     "output_type": "stream",
     "text": [
      "..\n",
      "----------------------------------------------------------------------\n",
      "Ran 2 tests in 0.001s\n",
      "\n",
      "OK\n"
     ]
    },
    {
     "data": {
      "text/plain": [
       "<unittest.main.TestProgram at 0x11514d9a0>"
      ]
     },
     "execution_count": 26,
     "metadata": {},
     "output_type": "execute_result"
    }
   ],
   "source": [
    "import unittest\n",
    "import numpy as np\n",
    "from framework.variable import Variable\n",
    "from framework.function import Square, Exp, square, exp\n",
    "\n",
    "\n",
    "class SquareTest(unittest.TestCase):\n",
    "    def test_forward(self):\n",
    "        x = Variable(np.array(2.0))\n",
    "        y = square(x)\n",
    "        expected = np.array(4.0)\n",
    "        self.assertEqual(y.data, expected)\n",
    "\n",
    "    def test_backward(self):\n",
    "        x = Variable(np.array(3.0))\n",
    "        y = square(x)\n",
    "        y.backward()\n",
    "        expected = np.array(6.0)\n",
    "        self.assertEqual(x.grad, expected)\n",
    "\n",
    "\n",
    "unittest.main(argv=[\"\"], exit=False)"
   ]
  },
  {
   "cell_type": "markdown",
   "metadata": {},
   "source": [
    "### 10.3 기울기 확인을 이용한 자동 테스트\n",
    "\n",
    "기울기 확인을 이용한 자동 테스트는 수치 미분의 결과와 역전파의 결과를 비교하여 오차가 적은지 확인한다.\n"
   ]
  },
  {
   "cell_type": "code",
   "execution_count": 27,
   "metadata": {},
   "outputs": [
    {
     "name": "stderr",
     "output_type": "stream",
     "text": [
      "...\n",
      "----------------------------------------------------------------------\n",
      "Ran 3 tests in 0.002s\n",
      "\n",
      "OK\n"
     ]
    },
    {
     "data": {
      "text/plain": [
       "<unittest.main.TestProgram at 0x111d3eff0>"
      ]
     },
     "execution_count": 27,
     "metadata": {},
     "output_type": "execute_result"
    }
   ],
   "source": [
    "def numerical_diff(f, x, eps=1e-4):\n",
    "    x0 = Variable(x.data - eps)\n",
    "    x1 = Variable(x.data + eps)\n",
    "    y0 = f(x0)\n",
    "    y1 = f(x1)\n",
    "    return (y1.data - y0.data) / (2 * eps)\n",
    "\n",
    "\n",
    "import unittest\n",
    "import numpy as np\n",
    "from framework.variable import Variable\n",
    "from framework.function import Square, Exp, square, exp\n",
    "\n",
    "\n",
    "class SquareTest(unittest.TestCase):\n",
    "    def test_forward(self):\n",
    "        x = Variable(np.array(2.0))\n",
    "        y = square(x)\n",
    "        expected = np.array(4.0)\n",
    "        self.assertEqual(y.data, expected)\n",
    "\n",
    "    def test_backward(self):\n",
    "        x = Variable(np.array(3.0))\n",
    "        y = square(x)\n",
    "        y.backward()\n",
    "        expected = np.array(6.0)\n",
    "        self.assertEqual(x.grad, expected)\n",
    "\n",
    "    def test_gradient_check(self):\n",
    "        \"\"\"수치 미분과 역전파 미분을 비교하는 테스트 함수\n",
    "        역전파로 구한 미분값과 수치 미분으로 구한 미분값이 거의 일치하는지 확인한다.\n",
    "        np.allclose 함수는 두 행렬이 가까운 값인지 확인하는 함수이다.\n",
    "        $$|a - b| < (atol + rtol \\times |b|)$$\n",
    "        \"\"\"\n",
    "        x = Variable(np.random.rand(1))  # 무작위 입력값 생성\n",
    "        y = square(x)\n",
    "        y.backward()\n",
    "        num_grad = numerical_diff(square, x)\n",
    "        flg = np.allclose(x.grad, num_grad)\n",
    "        self.assertTrue(flg)\n",
    "\n",
    "\n",
    "unittest.main(argv=[\"\"], exit=False)"
   ]
  }
 ],
 "metadata": {
  "kernelspec": {
   "display_name": "ai",
   "language": "python",
   "name": "python3"
  },
  "language_info": {
   "codemirror_mode": {
    "name": "ipython",
    "version": 3
   },
   "file_extension": ".py",
   "mimetype": "text/x-python",
   "name": "python",
   "nbconvert_exporter": "python",
   "pygments_lexer": "ipython3",
   "version": "3.9.12"
  }
 },
 "nbformat": 4,
 "nbformat_minor": 2
}
