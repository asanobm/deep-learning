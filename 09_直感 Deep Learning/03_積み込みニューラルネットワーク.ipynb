{
 "cells": [
  {
   "cell_type": "markdown",
   "metadata": {},
   "source": [
    "3.3. CIFAR-10 画像認識\n",
    "\n",
    "CIFAR-10 は、カナダのトロント大学が提供する、10種類の画像を分類するためのデータセットです。このデータセットは、32x32ピクセルのカラー画像 60,000枚で構成されています。そのうち、50,000枚が訓練用、10,000枚がテスト用になっています。画像は、飛行機、自動車、鳥、猫、鹿、犬、カエル、馬、船、トラックの10種類です。"
   ]
  },
  {
   "cell_type": "code",
   "execution_count": 1,
   "metadata": {
    "ExecuteTime": {
     "end_time": "2024-02-07T06:57:06.732398340Z",
     "start_time": "2024-02-07T06:57:06.730877167Z"
    }
   },
   "outputs": [
    {
     "name": "stderr",
     "output_type": "stream",
     "text": [
      "2024-02-07 20:02:29.467485: I tensorflow/core/util/port.cc:113] oneDNN custom operations are on. You may see slightly different numerical results due to floating-point round-off errors from different computation orders. To turn them off, set the environment variable `TF_ENABLE_ONEDNN_OPTS=0`.\n",
      "2024-02-07 20:02:29.488197: E external/local_xla/xla/stream_executor/cuda/cuda_dnn.cc:9261] Unable to register cuDNN factory: Attempting to register factory for plugin cuDNN when one has already been registered\n",
      "2024-02-07 20:02:29.488217: E external/local_xla/xla/stream_executor/cuda/cuda_fft.cc:607] Unable to register cuFFT factory: Attempting to register factory for plugin cuFFT when one has already been registered\n",
      "2024-02-07 20:02:29.488996: E external/local_xla/xla/stream_executor/cuda/cuda_blas.cc:1515] Unable to register cuBLAS factory: Attempting to register factory for plugin cuBLAS when one has already been registered\n",
      "2024-02-07 20:02:29.493174: I tensorflow/core/platform/cpu_feature_guard.cc:182] This TensorFlow binary is optimized to use available CPU instructions in performance-critical operations.\n",
      "To enable the following instructions: SSE4.1 SSE4.2 AVX AVX2 AVX_VNNI FMA, in other operations, rebuild TensorFlow with the appropriate compiler flags.\n"
     ]
    }
   ],
   "source": [
    "import os\n",
    "import keras\n",
    "\n",
    "from keras.models import Sequential\n",
    "\n",
    "from keras.layers import Conv2D, MaxPooling2D, Activation\n",
    "from keras.layers import Flatten, Dense, Dropout\n",
    "\n",
    "from keras.datasets import cifar10\n",
    "\n",
    "from keras.optimizers import RMSprop\n",
    "\n",
    "from keras.callbacks import TensorBoard, ModelCheckpoint\n"
   ]
  },
  {
   "cell_type": "code",
   "execution_count": 2,
   "metadata": {
    "ExecuteTime": {
     "end_time": "2024-02-07T06:57:06.735852907Z",
     "start_time": "2024-02-07T06:57:06.734269132Z"
    }
   },
   "outputs": [],
   "source": [
    "# LeNet configuration\n",
    "\n",
    "def network(input_shape, num_classes):\n",
    "  model = Sequential()\n",
    "\n",
    "  model.add(Conv2D(32, (3, 3), padding='same', input_shape=input_shape, activation='relu'))\n",
    "  model.add(MaxPooling2D(pool_size=(2, 2)))\n",
    "  model.add(Conv2D(64, (3, 3), padding='same', activation='relu'))\n",
    "  model.add(MaxPooling2D(pool_size=(2, 2)))\n",
    "  model.add(Dropout(0.5))\n",
    "  model.add(Flatten())\n",
    "  model.add(Dense(512, activation='relu'))\n",
    "  model.add(Dropout(0.5))\n",
    "  model.add(Dense(num_classes, activation='softmax'))\n",
    "  return model"
   ]
  },
  {
   "cell_type": "code",
   "execution_count": 4,
   "metadata": {
    "ExecuteTime": {
     "end_time": "2024-02-07T06:57:06.784260794Z",
     "start_time": "2024-02-07T06:57:06.737919139Z"
    }
   },
   "outputs": [],
   "source": [
    "class CIFAR10Dataset():\n",
    "  \"\"\"CIFAR-10 dataset.\n",
    "  \n",
    "  Describes:\n",
    "    CIFAR-10 데이터셋을 캡슐화한다.\n",
    "  \n",
    "  Attributes:\n",
    "    self.image_shape: 이미지의 형태 (높이 32, 너비 32, 채널 수 3)\n",
    "    self.num_classes: 클래스 수 (10)\n",
    "  \"\"\"\n",
    "  def __init__(self):\n",
    "    \"\"\"Constructor.\n",
    "    \n",
    "    인스턴스 변수를 초기화한다.\n",
    "    \"\"\"\n",
    "    self.image_shape = (32, 32, 3)\n",
    "    self.num_classes = 10\n",
    "\n",
    "  def get_batch(self):\n",
    "    \"\"\"CIFAR-10 데이터셋을 로드하고 전처리한다.\n",
    "    \n",
    "    Describes:\n",
    "      CIFAR-10 데이터셋을 로드하고 전처리한다. 데이터는 0과 1 사이로 정규화된다.\n",
    "      레이블은 원-핫 인코딩된다.\n",
    "\n",
    "    Returns:\n",
    "      훈련 데이터, 훈련 레이블, 테스트 데이터, 테스트 레이블을 반환한다.\n",
    "    \"\"\"\n",
    "    (x_train, y_train), (x_test, y_test) = cifar10.load_data()\n",
    "\n",
    "    x_train = x_train.astype('float32')\n",
    "    x_test = x_test.astype('float32')\n",
    "\n",
    "    x_train /= 255\n",
    "    x_test /= 255\n",
    "\n",
    "    y_train = keras.utils.to_categorical(y_train, self.num_classes)\n",
    "    y_test = keras.utils.to_categorical(y_test, self.num_classes)\n",
    "\n",
    "    return x_train, y_train, x_test, y_test\n",
    "  \n",
    "  def preprocess(self, data, label_data=False):\n",
    "    if label_data:\n",
    "      data = keras.utils.to_categorical(data, self.num_classes)\n",
    "    else:\n",
    "      data = data.astype('float32')\n",
    "      data /= 255\n",
    "      shape = (data.shape[0],) + self.image_shape\n",
    "      return data"
   ]
  },
  {
   "cell_type": "code",
   "execution_count": 5,
   "metadata": {
    "ExecuteTime": {
     "end_time": "2024-02-07T06:57:06.785063106Z",
     "start_time": "2024-02-07T06:57:06.784065075Z"
    }
   },
   "outputs": [],
   "source": [
    "class Trainer():\n",
    "  def __init__(self, model, loss, optimizer):\n",
    "    self._target = model\n",
    "    self._target.compile(loss=loss, optimizer=optimizer, metrics=['accuracy'])\n",
    "    self.verbose = 1\n",
    "    self.log_dir = os.path.join(os.getcwd(), 'logdir')\n",
    "    \n",
    "    \n",
    "    self.model_file_name = 'model_file.hdf5'\n",
    "\n",
    "  def train(self, x_train, y_train, batch_size, epochs, validation_split):\n",
    "    if os.path.exists(self.log_dir):\n",
    "      import shutil\n",
    "      shutil.rmtree(self.log_dir)\n",
    "    os.mkdir(self.log_dir)\n",
    "\n",
    "    self._target.fit(\n",
    "      x_train, y_train,\n",
    "      batch_size=batch_size, epochs=epochs,\n",
    "      validation_split=validation_split,\n",
    "      callbacks=[\n",
    "        TensorBoard(log_dir=self.log_dir),\n",
    "        ModelCheckpoint(os.path.join(self.log_dir, self.model_file_name), save_best_only=True)\n",
    "      ],\n",
    "      verbose=self.verbose)"
   ]
  },
  {
   "cell_type": "code",
   "execution_count": 6,
   "metadata": {
    "ExecuteTime": {
     "end_time": "2024-02-07T06:57:50.649228164Z",
     "start_time": "2024-02-07T06:57:06.784269252Z"
    }
   },
   "outputs": [
    {
     "name": "stderr",
     "output_type": "stream",
     "text": [
      "2024-02-07 20:12:55.637797: I external/local_xla/xla/stream_executor/cuda/cuda_executor.cc:887] could not open file to read NUMA node: /sys/bus/pci/devices/0000:01:00.0/numa_node\n",
      "Your kernel may have been built without NUMA support.\n",
      "2024-02-07 20:12:55.673556: I external/local_xla/xla/stream_executor/cuda/cuda_executor.cc:887] could not open file to read NUMA node: /sys/bus/pci/devices/0000:01:00.0/numa_node\n",
      "Your kernel may have been built without NUMA support.\n",
      "2024-02-07 20:12:55.673596: I external/local_xla/xla/stream_executor/cuda/cuda_executor.cc:887] could not open file to read NUMA node: /sys/bus/pci/devices/0000:01:00.0/numa_node\n",
      "Your kernel may have been built without NUMA support.\n",
      "2024-02-07 20:12:55.676272: I external/local_xla/xla/stream_executor/cuda/cuda_executor.cc:887] could not open file to read NUMA node: /sys/bus/pci/devices/0000:01:00.0/numa_node\n",
      "Your kernel may have been built without NUMA support.\n",
      "2024-02-07 20:12:55.676311: I external/local_xla/xla/stream_executor/cuda/cuda_executor.cc:887] could not open file to read NUMA node: /sys/bus/pci/devices/0000:01:00.0/numa_node\n",
      "Your kernel may have been built without NUMA support.\n",
      "2024-02-07 20:12:55.676328: I external/local_xla/xla/stream_executor/cuda/cuda_executor.cc:887] could not open file to read NUMA node: /sys/bus/pci/devices/0000:01:00.0/numa_node\n",
      "Your kernel may have been built without NUMA support.\n",
      "2024-02-07 20:12:56.251404: I external/local_xla/xla/stream_executor/cuda/cuda_executor.cc:887] could not open file to read NUMA node: /sys/bus/pci/devices/0000:01:00.0/numa_node\n",
      "Your kernel may have been built without NUMA support.\n",
      "2024-02-07 20:12:56.251456: I external/local_xla/xla/stream_executor/cuda/cuda_executor.cc:887] could not open file to read NUMA node: /sys/bus/pci/devices/0000:01:00.0/numa_node\n",
      "Your kernel may have been built without NUMA support.\n",
      "2024-02-07 20:12:56.251462: I tensorflow/core/common_runtime/gpu/gpu_device.cc:2022] Could not identify NUMA node of platform GPU id 0, defaulting to 0.  Your kernel may not have been built with NUMA support.\n",
      "2024-02-07 20:12:56.251501: I external/local_xla/xla/stream_executor/cuda/cuda_executor.cc:887] could not open file to read NUMA node: /sys/bus/pci/devices/0000:01:00.0/numa_node\n",
      "Your kernel may have been built without NUMA support.\n",
      "2024-02-07 20:12:56.251520: I tensorflow/core/common_runtime/gpu/gpu_device.cc:1929] Created device /job:localhost/replica:0/task:0/device:GPU:0 with 21294 MB memory:  -> device: 0, name: NVIDIA GeForce RTX 4090, pci bus id: 0000:01:00.0, compute capability: 8.9\n"
     ]
    },
    {
     "name": "stdout",
     "output_type": "stream",
     "text": [
      "Epoch 1/12\n"
     ]
    },
    {
     "name": "stderr",
     "output_type": "stream",
     "text": [
      "2024-02-07 20:12:57.601901: E tensorflow/core/grappler/optimizers/meta_optimizer.cc:961] layout failed: INVALID_ARGUMENT: Size of values 0 does not match size of permutation 4 @ fanin shape insequential/dropout/dropout/SelectV2-2-TransposeNHWCToNCHW-LayoutOptimizer\n",
      "2024-02-07 20:12:58.678995: I external/local_xla/xla/stream_executor/cuda/cuda_dnn.cc:454] Loaded cuDNN version 8800\n",
      "2024-02-07 20:12:59.800388: I external/local_xla/xla/service/service.cc:168] XLA service 0x7f8948015c50 initialized for platform CUDA (this does not guarantee that XLA will be used). Devices:\n",
      "2024-02-07 20:12:59.800418: I external/local_xla/xla/service/service.cc:176]   StreamExecutor device (0): NVIDIA GeForce RTX 4090, Compute Capability 8.9\n",
      "2024-02-07 20:12:59.804087: I tensorflow/compiler/mlir/tensorflow/utils/dump_mlir_util.cc:269] disabling MLIR crash reproducer, set env var `MLIR_CRASH_REPRODUCER_DIRECTORY` to enable.\n",
      "WARNING: All log messages before absl::InitializeLog() is called are written to STDERR\n",
      "I0000 00:00:1707304379.838820  278507 device_compiler.h:186] Compiled cluster using XLA!  This line is logged at most once for the lifetime of the process.\n"
     ]
    },
    {
     "name": "stdout",
     "output_type": "stream",
     "text": [
      "313/313 [==============================] - 6s 8ms/step - loss: 1.6977 - accuracy: 0.3877 - val_loss: 1.3589 - val_accuracy: 0.5272\n",
      "Epoch 2/12\n",
      " 39/313 [==>...........................] - ETA: 1s - loss: 1.4110 - accuracy: 0.4906"
     ]
    },
    {
     "name": "stderr",
     "output_type": "stream",
     "text": [
      "/home/asanobm/miniforge3/envs/ai/lib/python3.11/site-packages/keras/src/engine/training.py:3103: UserWarning: You are saving your model as an HDF5 file via `model.save()`. This file format is considered legacy. We recommend using instead the native Keras format, e.g. `model.save('my_model.keras')`.\n",
      "  saving_api.save_model(\n"
     ]
    },
    {
     "name": "stdout",
     "output_type": "stream",
     "text": [
      "313/313 [==============================] - 2s 5ms/step - loss: 1.3248 - accuracy: 0.5281 - val_loss: 1.1664 - val_accuracy: 0.5943\n",
      "Epoch 3/12\n",
      "313/313 [==============================] - 2s 5ms/step - loss: 1.1740 - accuracy: 0.5855 - val_loss: 1.0544 - val_accuracy: 0.6283\n",
      "Epoch 4/12\n",
      "313/313 [==============================] - 2s 5ms/step - loss: 1.0800 - accuracy: 0.6195 - val_loss: 0.9879 - val_accuracy: 0.6534\n",
      "Epoch 5/12\n",
      "313/313 [==============================] - 2s 5ms/step - loss: 1.0159 - accuracy: 0.6437 - val_loss: 0.9658 - val_accuracy: 0.6661\n",
      "Epoch 6/12\n",
      "313/313 [==============================] - 2s 5ms/step - loss: 0.9588 - accuracy: 0.6619 - val_loss: 0.9175 - val_accuracy: 0.6812\n",
      "Epoch 7/12\n",
      "313/313 [==============================] - 2s 5ms/step - loss: 0.9094 - accuracy: 0.6804 - val_loss: 0.9213 - val_accuracy: 0.6797\n",
      "Epoch 8/12\n",
      "313/313 [==============================] - 2s 5ms/step - loss: 0.8687 - accuracy: 0.6977 - val_loss: 0.8730 - val_accuracy: 0.7002\n",
      "Epoch 9/12\n",
      "313/313 [==============================] - 1s 5ms/step - loss: 0.8338 - accuracy: 0.7104 - val_loss: 0.8259 - val_accuracy: 0.7156\n",
      "Epoch 10/12\n",
      "313/313 [==============================] - 2s 5ms/step - loss: 0.8018 - accuracy: 0.7190 - val_loss: 0.8349 - val_accuracy: 0.7134\n",
      "Epoch 11/12\n",
      "313/313 [==============================] - 2s 5ms/step - loss: 0.7745 - accuracy: 0.7334 - val_loss: 0.9092 - val_accuracy: 0.6929\n",
      "Epoch 12/12\n",
      "313/313 [==============================] - 2s 5ms/step - loss: 0.7495 - accuracy: 0.7397 - val_loss: 0.8104 - val_accuracy: 0.7276\n",
      "Test loss: 0.8171332478523254\n",
      "Test accuracy: 0.7210999727249146\n"
     ]
    }
   ],
   "source": [
    "dataset = CIFAR10Dataset()\n",
    "x_train, y_train, x_test, y_test = dataset.get_batch()\n",
    "\n",
    "model = network(dataset.image_shape, dataset.num_classes)\n",
    "trainer = Trainer(model, loss='categorical_crossentropy', optimizer=RMSprop())\n",
    "trainer.train(x_train, y_train, batch_size=128, epochs=12, validation_split=0.2)\n",
    "\n",
    "# show result\n",
    "score = model.evaluate(x_test, y_test, verbose=0)\n",
    "print('Test loss:', score[0])\n",
    "print('Test accuracy:', score[1])"
   ]
  },
  {
   "cell_type": "markdown",
   "metadata": {},
   "source": [
    "参考書と同じコードだと思うが、結果が大違いだ！"
   ]
  },
  {
   "cell_type": "code",
   "execution_count": 20,
   "metadata": {
    "ExecuteTime": {
     "end_time": "2024-02-07T06:57:50.649783446Z",
     "start_time": "2024-02-07T06:57:29.138332205Z"
    }
   },
   "outputs": [],
   "source": [
    "# check tensorboard\n",
    "# !tensorboard --logdir=logdir"
   ]
  },
  {
   "cell_type": "markdown",
   "metadata": {},
   "source": [
    "**ネットワークをもっと深くすることによる改善**"
   ]
  },
  {
   "cell_type": "code",
   "execution_count": 7,
   "metadata": {
    "ExecuteTime": {
     "end_time": "2024-02-07T06:57:50.650079318Z",
     "start_time": "2024-02-07T06:57:29.141431168Z"
    }
   },
   "outputs": [],
   "source": [
    "# LeNet configuration\n",
    "\n",
    "def network(input_shape, num_classes):\n",
    "  model = Sequential()\n",
    "\n",
    "  model.add(Conv2D(32, (3, 3), padding='same', input_shape=input_shape, activation='relu'))\n",
    "  model.add(Conv2D(32, (3, 3), padding='same', activation='relu'))\n",
    "  model.add(MaxPooling2D(pool_size=(2, 2)))\n",
    "  model.add(Dropout(0.25))\n",
    "  model.add(Conv2D(64, (3, 3), padding='same', activation='relu'))\n",
    "  model.add(Conv2D(64, (3, 3), activation='relu'))\n",
    "  model.add(MaxPooling2D(pool_size=(2, 2)))\n",
    "  model.add(Dropout(0.5))\n",
    "  model.add(Flatten())\n",
    "  model.add(Dense(512, activation='relu'))\n",
    "  model.add(Dropout(0.5))\n",
    "  model.add(Dense(num_classes, activation='softmax'))\n",
    "  return model"
   ]
  },
  {
   "cell_type": "code",
   "execution_count": 10,
   "metadata": {
    "ExecuteTime": {
     "end_time": "2024-02-07T06:57:52.571386951Z",
     "start_time": "2024-02-07T06:57:29.149926537Z"
    }
   },
   "outputs": [
    {
     "name": "stdout",
     "output_type": "stream",
     "text": [
      "Epoch 1/64\n",
      "171/171 [==============================] - 3s 10ms/step - loss: 1.9725 - accuracy: 0.2816 - val_loss: 1.6375 - val_accuracy: 0.4107\n",
      "Epoch 2/64\n",
      "171/171 [==============================] - 1s 6ms/step - loss: 1.6106 - accuracy: 0.4162 - val_loss: 1.4591 - val_accuracy: 0.4866\n",
      "Epoch 3/64\n",
      "171/171 [==============================] - 1s 5ms/step - loss: 1.4165 - accuracy: 0.4932 - val_loss: 1.3758 - val_accuracy: 0.5195\n",
      "Epoch 4/64\n",
      "171/171 [==============================] - 1s 5ms/step - loss: 1.2844 - accuracy: 0.5404 - val_loss: 1.1352 - val_accuracy: 0.6008\n",
      "Epoch 5/64\n",
      "171/171 [==============================] - 1s 5ms/step - loss: 1.1824 - accuracy: 0.5834 - val_loss: 1.0742 - val_accuracy: 0.6256\n",
      "Epoch 6/64\n",
      "171/171 [==============================] - 1s 5ms/step - loss: 1.0939 - accuracy: 0.6110 - val_loss: 0.9845 - val_accuracy: 0.6605\n",
      "Epoch 7/64\n",
      "171/171 [==============================] - 1s 5ms/step - loss: 1.0243 - accuracy: 0.6385 - val_loss: 0.9511 - val_accuracy: 0.6664\n",
      "Epoch 8/64\n",
      "171/171 [==============================] - 1s 5ms/step - loss: 0.9669 - accuracy: 0.6593 - val_loss: 0.8527 - val_accuracy: 0.7003\n",
      "Epoch 9/64\n",
      "171/171 [==============================] - 1s 5ms/step - loss: 0.9049 - accuracy: 0.6816 - val_loss: 0.7805 - val_accuracy: 0.7330\n",
      "Epoch 10/64\n",
      "171/171 [==============================] - 1s 5ms/step - loss: 0.8631 - accuracy: 0.6953 - val_loss: 0.7454 - val_accuracy: 0.7416\n",
      "Epoch 11/64\n",
      "171/171 [==============================] - 1s 5ms/step - loss: 0.8243 - accuracy: 0.7092 - val_loss: 0.7268 - val_accuracy: 0.7470\n",
      "Epoch 12/64\n",
      "171/171 [==============================] - 1s 5ms/step - loss: 0.7899 - accuracy: 0.7214 - val_loss: 0.6947 - val_accuracy: 0.7622\n",
      "Epoch 13/64\n",
      "171/171 [==============================] - 1s 5ms/step - loss: 0.7603 - accuracy: 0.7325 - val_loss: 0.7270 - val_accuracy: 0.7458\n",
      "Epoch 14/64\n",
      "171/171 [==============================] - 1s 5ms/step - loss: 0.7310 - accuracy: 0.7436 - val_loss: 0.7719 - val_accuracy: 0.7414\n",
      "Epoch 15/64\n",
      "171/171 [==============================] - 1s 5ms/step - loss: 0.6994 - accuracy: 0.7555 - val_loss: 0.6559 - val_accuracy: 0.7792\n",
      "Epoch 16/64\n",
      "171/171 [==============================] - 1s 5ms/step - loss: 0.6871 - accuracy: 0.7582 - val_loss: 0.6719 - val_accuracy: 0.7698\n",
      "Epoch 17/64\n",
      "171/171 [==============================] - 1s 5ms/step - loss: 0.6551 - accuracy: 0.7696 - val_loss: 0.6518 - val_accuracy: 0.7781\n",
      "Epoch 18/64\n",
      "171/171 [==============================] - 1s 5ms/step - loss: 0.6307 - accuracy: 0.7784 - val_loss: 0.7239 - val_accuracy: 0.7530\n",
      "Epoch 19/64\n",
      "171/171 [==============================] - 1s 5ms/step - loss: 0.6174 - accuracy: 0.7851 - val_loss: 0.5960 - val_accuracy: 0.7976\n",
      "Epoch 20/64\n",
      "171/171 [==============================] - 1s 5ms/step - loss: 0.5915 - accuracy: 0.7932 - val_loss: 0.6530 - val_accuracy: 0.7741\n",
      "Epoch 21/64\n",
      "171/171 [==============================] - 1s 5ms/step - loss: 0.5771 - accuracy: 0.7992 - val_loss: 0.6455 - val_accuracy: 0.7784\n",
      "Epoch 22/64\n",
      "171/171 [==============================] - 1s 6ms/step - loss: 0.5580 - accuracy: 0.8035 - val_loss: 0.5920 - val_accuracy: 0.8018\n",
      "Epoch 23/64\n",
      "171/171 [==============================] - 1s 5ms/step - loss: 0.5388 - accuracy: 0.8113 - val_loss: 0.5766 - val_accuracy: 0.8070\n",
      "Epoch 24/64\n",
      "171/171 [==============================] - 1s 5ms/step - loss: 0.5372 - accuracy: 0.8125 - val_loss: 0.5812 - val_accuracy: 0.8061\n",
      "Epoch 25/64\n",
      "171/171 [==============================] - 1s 5ms/step - loss: 0.5206 - accuracy: 0.8173 - val_loss: 0.7360 - val_accuracy: 0.7600\n",
      "Epoch 26/64\n",
      "171/171 [==============================] - 1s 5ms/step - loss: 0.5104 - accuracy: 0.8199 - val_loss: 0.5856 - val_accuracy: 0.8035\n",
      "Epoch 27/64\n",
      "171/171 [==============================] - 1s 5ms/step - loss: 0.5002 - accuracy: 0.8246 - val_loss: 0.6308 - val_accuracy: 0.7920\n",
      "Epoch 28/64\n",
      "171/171 [==============================] - 1s 6ms/step - loss: 0.4887 - accuracy: 0.8289 - val_loss: 0.5666 - val_accuracy: 0.8104\n",
      "Epoch 29/64\n",
      "171/171 [==============================] - 1s 5ms/step - loss: 0.4773 - accuracy: 0.8325 - val_loss: 0.5733 - val_accuracy: 0.8115\n",
      "Epoch 30/64\n",
      "171/171 [==============================] - 1s 5ms/step - loss: 0.4718 - accuracy: 0.8344 - val_loss: 0.5749 - val_accuracy: 0.8075\n",
      "Epoch 31/64\n",
      "171/171 [==============================] - 1s 5ms/step - loss: 0.4573 - accuracy: 0.8390 - val_loss: 0.5723 - val_accuracy: 0.8101\n",
      "Epoch 32/64\n",
      "171/171 [==============================] - 1s 5ms/step - loss: 0.4443 - accuracy: 0.8438 - val_loss: 0.5757 - val_accuracy: 0.8070\n",
      "Epoch 33/64\n",
      "171/171 [==============================] - 1s 5ms/step - loss: 0.4360 - accuracy: 0.8465 - val_loss: 0.5759 - val_accuracy: 0.8088\n",
      "Epoch 34/64\n",
      "171/171 [==============================] - 1s 5ms/step - loss: 0.4356 - accuracy: 0.8462 - val_loss: 0.5787 - val_accuracy: 0.8120\n",
      "Epoch 35/64\n",
      "171/171 [==============================] - 1s 5ms/step - loss: 0.4192 - accuracy: 0.8530 - val_loss: 0.5861 - val_accuracy: 0.8037\n",
      "Epoch 36/64\n",
      "171/171 [==============================] - 1s 6ms/step - loss: 0.4212 - accuracy: 0.8524 - val_loss: 0.5534 - val_accuracy: 0.8178\n",
      "Epoch 37/64\n",
      "171/171 [==============================] - 1s 5ms/step - loss: 0.4097 - accuracy: 0.8561 - val_loss: 0.5733 - val_accuracy: 0.8099\n",
      "Epoch 38/64\n",
      "171/171 [==============================] - 1s 5ms/step - loss: 0.4005 - accuracy: 0.8598 - val_loss: 0.5725 - val_accuracy: 0.8133\n",
      "Epoch 39/64\n",
      "171/171 [==============================] - 1s 6ms/step - loss: 0.3995 - accuracy: 0.8597 - val_loss: 0.5425 - val_accuracy: 0.8214\n",
      "Epoch 40/64\n",
      "171/171 [==============================] - 1s 6ms/step - loss: 0.3926 - accuracy: 0.8631 - val_loss: 0.5418 - val_accuracy: 0.8234\n",
      "Epoch 41/64\n",
      "171/171 [==============================] - 1s 5ms/step - loss: 0.3937 - accuracy: 0.8613 - val_loss: 0.5831 - val_accuracy: 0.8160\n",
      "Epoch 42/64\n",
      "171/171 [==============================] - 1s 5ms/step - loss: 0.3835 - accuracy: 0.8664 - val_loss: 0.5494 - val_accuracy: 0.8166\n",
      "Epoch 43/64\n",
      "171/171 [==============================] - 1s 5ms/step - loss: 0.3749 - accuracy: 0.8680 - val_loss: 0.5554 - val_accuracy: 0.8198\n",
      "Epoch 44/64\n",
      "171/171 [==============================] - 1s 5ms/step - loss: 0.3775 - accuracy: 0.8668 - val_loss: 0.5578 - val_accuracy: 0.8152\n",
      "Epoch 45/64\n",
      "171/171 [==============================] - 1s 5ms/step - loss: 0.3686 - accuracy: 0.8713 - val_loss: 0.5601 - val_accuracy: 0.8187\n",
      "Epoch 46/64\n",
      "171/171 [==============================] - 1s 5ms/step - loss: 0.3705 - accuracy: 0.8710 - val_loss: 0.5575 - val_accuracy: 0.8174\n",
      "Epoch 47/64\n",
      "171/171 [==============================] - 1s 5ms/step - loss: 0.3647 - accuracy: 0.8714 - val_loss: 0.5775 - val_accuracy: 0.8206\n",
      "Epoch 48/64\n",
      "171/171 [==============================] - 1s 5ms/step - loss: 0.3594 - accuracy: 0.8741 - val_loss: 0.6378 - val_accuracy: 0.8088\n",
      "Epoch 49/64\n",
      "171/171 [==============================] - 1s 5ms/step - loss: 0.3588 - accuracy: 0.8738 - val_loss: 0.5512 - val_accuracy: 0.8237\n",
      "Epoch 50/64\n",
      "171/171 [==============================] - 1s 5ms/step - loss: 0.3536 - accuracy: 0.8753 - val_loss: 0.5628 - val_accuracy: 0.8242\n",
      "Epoch 51/64\n",
      "171/171 [==============================] - 1s 6ms/step - loss: 0.3515 - accuracy: 0.8775 - val_loss: 0.5327 - val_accuracy: 0.8318\n",
      "Epoch 52/64\n",
      "171/171 [==============================] - 1s 5ms/step - loss: 0.3493 - accuracy: 0.8784 - val_loss: 0.6124 - val_accuracy: 0.8133\n",
      "Epoch 53/64\n",
      "171/171 [==============================] - 1s 5ms/step - loss: 0.3449 - accuracy: 0.8786 - val_loss: 0.5652 - val_accuracy: 0.8245\n",
      "Epoch 54/64\n",
      "171/171 [==============================] - 1s 5ms/step - loss: 0.3556 - accuracy: 0.8762 - val_loss: 0.5948 - val_accuracy: 0.8062\n",
      "Epoch 55/64\n",
      "171/171 [==============================] - 1s 5ms/step - loss: 0.3467 - accuracy: 0.8802 - val_loss: 0.5988 - val_accuracy: 0.8232\n",
      "Epoch 56/64\n",
      "171/171 [==============================] - 1s 5ms/step - loss: 0.3449 - accuracy: 0.8809 - val_loss: 0.5818 - val_accuracy: 0.8230\n",
      "Epoch 57/64\n",
      "171/171 [==============================] - 1s 5ms/step - loss: 0.3441 - accuracy: 0.8802 - val_loss: 0.5722 - val_accuracy: 0.8301\n",
      "Epoch 58/64\n",
      "171/171 [==============================] - 1s 5ms/step - loss: 0.3469 - accuracy: 0.8808 - val_loss: 0.5744 - val_accuracy: 0.8182\n",
      "Epoch 59/64\n",
      "171/171 [==============================] - 1s 5ms/step - loss: 0.3399 - accuracy: 0.8839 - val_loss: 0.5663 - val_accuracy: 0.8182\n",
      "Epoch 60/64\n",
      "171/171 [==============================] - 1s 5ms/step - loss: 0.3427 - accuracy: 0.8827 - val_loss: 0.5725 - val_accuracy: 0.8275\n",
      "Epoch 61/64\n",
      "171/171 [==============================] - 1s 5ms/step - loss: 0.3319 - accuracy: 0.8852 - val_loss: 0.5639 - val_accuracy: 0.8283\n",
      "Epoch 62/64\n",
      "171/171 [==============================] - 1s 5ms/step - loss: 0.3346 - accuracy: 0.8854 - val_loss: 0.5865 - val_accuracy: 0.8202\n",
      "Epoch 63/64\n",
      "171/171 [==============================] - 1s 5ms/step - loss: 0.3341 - accuracy: 0.8862 - val_loss: 0.6062 - val_accuracy: 0.8203\n",
      "Epoch 64/64\n",
      "171/171 [==============================] - 1s 5ms/step - loss: 0.3312 - accuracy: 0.8885 - val_loss: 0.5876 - val_accuracy: 0.8250\n",
      "Test loss: 0.6143041849136353\n",
      "Test accuracy: 0.8187999725341797\n"
     ]
    }
   ],
   "source": [
    "dataset = CIFAR10Dataset()\n",
    "x_train, y_train, x_test, y_test = dataset.get_batch()\n",
    "\n",
    "model = network(dataset.image_shape, dataset.num_classes)\n",
    "trainer = Trainer(model, loss='categorical_crossentropy', optimizer=RMSprop())\n",
    "trainer.train(x_train, y_train, batch_size=256, epochs=64, validation_split=0.125)\n",
    "\n",
    "# show result\n",
    "score = model.evaluate(x_test, y_test, verbose=0)\n",
    "print('Test loss:', score[0])\n",
    "print('Test accuracy:', score[1])"
   ]
  },
  {
   "cell_type": "code",
   "execution_count": 22,
   "metadata": {
    "ExecuteTime": {
     "end_time": "2024-02-07T06:57:52.573031395Z",
     "start_time": "2024-02-07T06:57:52.571739120Z"
    }
   },
   "outputs": [],
   "source": []
  }
 ],
 "metadata": {
  "kernelspec": {
   "display_name": "Python 3 (ipykernel)",
   "language": "python",
   "name": "python3"
  },
  "language_info": {
   "codemirror_mode": {
    "name": "ipython",
    "version": 3
   },
   "file_extension": ".py",
   "mimetype": "text/x-python",
   "name": "python",
   "nbconvert_exporter": "python",
   "pygments_lexer": "ipython3",
   "version": "3.11.0"
  }
 },
 "nbformat": 4,
 "nbformat_minor": 2
}
