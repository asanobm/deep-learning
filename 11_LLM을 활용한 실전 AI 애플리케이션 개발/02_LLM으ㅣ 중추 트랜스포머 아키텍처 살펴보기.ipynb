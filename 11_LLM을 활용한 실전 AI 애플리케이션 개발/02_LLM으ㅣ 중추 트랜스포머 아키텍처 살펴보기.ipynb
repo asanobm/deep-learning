{
 "cells": [
  {
   "cell_type": "code",
   "execution_count": 5,
   "metadata": {},
   "outputs": [
    {
     "name": "stdout",
     "output_type": "stream",
     "text": [
      "input_text_list:  ['나는', '최근', '파리', '여행을', '다녀왔다.']\n",
      "str2idx:  {'나는': 0, '최근': 1, '파리': 2, '여행을': 3, '다녀왔다.': 4}\n",
      "idx2str:  {0: '나는', 1: '최근', 2: '파리', 3: '여행을', 4: '다녀왔다.'}\n",
      "input_ids:  [0, 1, 2, 3, 4]\n"
     ]
    }
   ],
   "source": [
    "#예제 2.1 토큰화 코드\n",
    "\n",
    "# 띄어쓰기를 기준으로 토큰화\n",
    "\n",
    "input_text = \"나는 최근 파리 여행을 다녀왔다.\"\n",
    "input_text_list = input_text.split()\n",
    "print(\"input_text_list: \", input_text_list)\n",
    "\n",
    "# 토큰 -> 아이디 딕셔너리\n",
    "str2idx = {word: i for i, word in enumerate(input_text_list)}\n",
    "# 아이디 -> 토큰 딕셔너리\n",
    "idx2str = {i: word for i, word in enumerate(input_text_list)}\n",
    "print(\"str2idx: \", str2idx)\n",
    "print(\"idx2str: \", idx2str)\n",
    "\n",
    "# 토큰을 아이디로 변환\n",
    "input_ids = [str2idx[word] for word in input_text_list]\n",
    "print(\"input_ids: \", input_ids)"
   ]
  },
  {
   "cell_type": "code",
   "execution_count": 24,
   "metadata": {},
   "outputs": [
    {
     "name": "stdout",
     "output_type": "stream",
     "text": [
      "input embeddings:  tensor([[-0.0352, -0.6777,  0.7082,  0.6101, -0.0137,  0.1060, -0.9154,  1.7668,\n",
      "         -0.9481, -1.1275,  0.6446,  0.2600, -2.2988, -0.7216, -1.1145,  1.1686],\n",
      "        [ 0.6352, -1.0302, -1.4892,  1.3853, -1.0192, -0.3341, -2.1287,  0.6837,\n",
      "         -0.4787,  0.3914, -0.1916,  0.9009, -0.1794, -2.4746,  0.0125, -0.0097],\n",
      "        [-0.4592, -0.5429,  0.0072, -1.1805, -0.2225,  1.4122, -0.4943, -0.2075,\n",
      "         -1.0426,  0.5902,  0.8688,  1.5832, -0.2784, -0.1944,  0.3713, -0.4804],\n",
      "        [ 1.1532,  1.7369,  1.2984, -0.8345, -0.6610, -0.5150, -1.1488, -0.9103,\n",
      "          1.1436,  0.7846,  0.0310,  0.5009,  1.3412,  0.5401, -0.0779, -0.4912],\n",
      "        [ 0.8726, -0.9361,  1.2744,  0.2344, -0.1701,  0.5915, -1.5712,  0.0118,\n",
      "         -0.4281, -0.3840, -1.2857,  0.2508,  0.7332,  0.3082, -0.0503, -1.5878]],\n",
      "       grad_fn=<EmbeddingBackward0>)\n",
      "length of input embeddings:  5\n",
      "input embeddings shape torch.Size([1, 5, 16])\n"
     ]
    }
   ],
   "source": [
    "#예제 2.2 토큰 아이디에서 벡터로 변환\n",
    "import torch\n",
    "import torch.nn as nn\n",
    "\n",
    "embedding_dim = 16 # 임베딩 차원\n",
    "\n",
    "# 임베딩 레이어 생성\n",
    "embed_layer = nn.Embedding(len(str2idx), embedding_dim)\n",
    "\n",
    "# 임베딩 레이어에 토큰 아이디를 입력하여 임베딩 벡터를 얻음\n",
    "input_embeddings = embed_layer(torch.tensor(input_ids))\n",
    "\n",
    "print(\"input embeddings: \", input_embeddings)\n",
    "print(\"length of input embeddings: \", len(input_embeddings))\n",
    "print(\"input embeddings shape\", input_embeddings.unsqueeze(0).shape)\n"
   ]
  },
  {
   "cell_type": "code",
   "execution_count": 29,
   "metadata": {},
   "outputs": [
    {
     "data": {
      "text/plain": [
       "torch.Size([1, 5, 16])"
      ]
     },
     "execution_count": 29,
     "metadata": {},
     "output_type": "execute_result"
    }
   ],
   "source": [
    "# 예제 2.3 절대적 위치 인코딩\n",
    "\n",
    "import torch\n",
    "import torch.nn as nn\n",
    "\n",
    "embedding_dim = 16 # 임베딩 차원\n",
    "max_position = 12 # 최대 토큰 수\n",
    "\n",
    "embed_layer = nn.Embedding(len(str2idx), embedding_dim)\n",
    "position_embed_layer = nn.Embedding(max_position, embedding_dim)\n",
    "\n",
    "position_ids = torch.arange(len(input_ids), dtype=torch.long).unsqueeze(0)\n",
    "position_encodings = position_embed_layer(position_ids)\n",
    "\n",
    "token_embeddings = embed_layer(torch.tensor(input_ids))\n",
    "token_embeddings = token_embeddings.unsqueeze(0)\n",
    "\n",
    "input_embeddings = token_embeddings + position_encodings\n",
    "input_embeddings.shape"
   ]
  },
  {
   "cell_type": "code",
   "execution_count": 31,
   "metadata": {},
   "outputs": [
    {
     "name": "stdout",
     "output_type": "stream",
     "text": [
      "input ids:  [0, 1, 2, 3, 4]\n",
      "position ids:  tensor([[0, 1, 2, 3, 4]])\n"
     ]
    }
   ],
   "source": [
    "print(\"input ids: \", input_ids)\n",
    "print(\"position ids: \", position_ids)"
   ]
  },
  {
   "cell_type": "code",
   "execution_count": 33,
   "metadata": {},
   "outputs": [
    {
     "name": "stdout",
     "output_type": "stream",
     "text": [
      "querys shape:  torch.Size([1, 5, 16])\n",
      "keys shape:  torch.Size([1, 5, 16])\n",
      "values shape:  torch.Size([1, 5, 16])\n"
     ]
    }
   ],
   "source": [
    "# 쿼리, 키, 값 벡터를 만드는 nn.Linear 층\n",
    "\n",
    "# 쿼리, 키, 값을 계산하기 위한 변환\n",
    "weight_q = nn.Linear(embedding_dim, embedding_dim)\n",
    "weight_k = nn.Linear(embedding_dim, embedding_dim)\n",
    "weight_v = nn.Linear(embedding_dim, embedding_dim)\n",
    "\n",
    "querys = weight_q(input_embeddings) \n",
    "keys = weight_k(input_embeddings)\n",
    "values = weight_v(input_embeddings)\n",
    "\n",
    "print(\"querys shape: \", querys.shape)\n",
    "print(\"keys shape: \", keys.shape)\n",
    "print(\"values shape: \", values.shape)\n"
   ]
  },
  {
   "cell_type": "code",
   "execution_count": 39,
   "metadata": {},
   "outputs": [],
   "source": [
    "# 예제 2.5 스케일 점곱 방식의 어텐션\n",
    "\n",
    "from math import sqrt\n",
    "import torch.nn.functional as F\n",
    "\n",
    "def compute_attention(querys, keys, values):\n",
    "    dim_k = querys.size(-1)\n",
    "    # 쿼리와 키의 내적을 구하고 스케일링\n",
    "    scores = querys @ keys.transpose(-2, -1) / sqrt(dim_k)\n",
    "    \n",
    "    # 소프트맥스 함수를 통해 어텐션 가중치 계산\n",
    "    weights = F.softmax(scores, dim=-1)\n",
    "\n",
    "    # 가중치와 값의 곱으로 어텐션 값 계산한다. 입력과 동일한 차원을 가진다.\n",
    "    outputs = weights @ values\n",
    "    return outputs\n"
   ]
  },
  {
   "cell_type": "code",
   "execution_count": 40,
   "metadata": {},
   "outputs": [
    {
     "name": "stdout",
     "output_type": "stream",
     "text": [
      "원본 입력 형태: torch.Size([1, 5, 16])\n",
      "어텐션 후 입력 형태: torch.Size([1, 5, 16])\n"
     ]
    }
   ],
   "source": [
    "# 예제 2.6 어텐션 연산의 입력과 출력\n",
    "\n",
    "print(\"원본 입력 형태:\", input_embeddings.shape)\n",
    "\n",
    "after_attention_embeddings = compute_attention(querys, keys, values)\n",
    "\n",
    "print(\"어텐션 후 입력 형태:\", after_attention_embeddings.shape)"
   ]
  },
  {
   "cell_type": "code",
   "execution_count": 50,
   "metadata": {},
   "outputs": [],
   "source": [
    "# 2.7 어텐션 연산을 수행하는 AttentionHead 클래스\n",
    "import torch.nn as nn\n",
    "\n",
    "class AttentionHead(nn.Module):\n",
    "    def __init__(self, token_embed_dim, head_dim, is_causal=False):\n",
    "        super().__init__()\n",
    "        # 헤드 차원\n",
    "        self.is_causal = is_causal\n",
    "        # 쿼리 벡터 생성을 위한 선형 층\n",
    "        self.weight_q = nn.Linear(token_embed_dim, head_dim)\n",
    "        # 키 벡터 생성을 위한 선형 층\n",
    "        self.weight_k = nn.Linear(token_embed_dim, head_dim)\n",
    "        # 값 벡터 생성을 위한 선형 층\n",
    "        self.weight_v = nn.Linear(token_embed_dim, head_dim)\n",
    "\n",
    "    def forward(self, querys, keys, values):\n",
    "        outputs = compute_attention(\n",
    "            self.weight_q(querys),\n",
    "            self.weight_k(keys),\n",
    "            self.weight_v(values)\n",
    "        )\n",
    "        return outputs\n",
    "    \n",
    "attention_head = AttentionHead(embedding_dim, embedding_dim)\n",
    "after_attention_embeddings = attention_head(input_embeddings, input_embeddings, input_embeddings)"
   ]
  },
  {
   "cell_type": "code",
   "execution_count": null,
   "metadata": {},
   "outputs": [],
   "source": []
  }
 ],
 "metadata": {
  "kernelspec": {
   "display_name": "ai",
   "language": "python",
   "name": "python3"
  },
  "language_info": {
   "codemirror_mode": {
    "name": "ipython",
    "version": 3
   },
   "file_extension": ".py",
   "mimetype": "text/x-python",
   "name": "python",
   "nbconvert_exporter": "python",
   "pygments_lexer": "ipython3",
   "version": "3.11.10"
  }
 },
 "nbformat": 4,
 "nbformat_minor": 2
}
