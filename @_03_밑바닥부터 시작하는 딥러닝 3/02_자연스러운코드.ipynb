{
 "cells": [
  {
   "cell_type": "markdown",
   "metadata": {},
   "source": [
    "# 자연스러운 코드로\n",
    "\n",
    "- 가변 길이 인수 (순전파)\n",
    "- 가변 길이 인수 (개선)\n",
    "- 가변 길이 인수 (역전파)\n"
   ]
  },
  {
   "cell_type": "markdown",
   "metadata": {},
   "source": [
    "## 가변 길이 인수 (순전파)\n",
    "\n",
    "```python\n",
    "class Function:\n",
    "    def __call__(self, inputs):\n",
    "        xs = [x.data for x in inputs] # Variable 인스턴스로부터 데이터를 꺼낸다.\n",
    "        ys = self.forward(xs) # forward 메서드에서 구체적인 계산을 수행한다.\n",
    "        outputs = [Variable(as_array(y)) for y in ys] # 계산된 데이터를 Variable 인스턴스로 다시 감싼다.\n",
    "\n",
    "        for output in outputs:\n",
    "            output.set_creator(self) # 원산지 표시를 한다.\n",
    "\n",
    "        self.inputs = inputs  # 입력 변수를 기억(보관)한다.\n",
    "        self.outputs = outputs  # 출력 변수를 저장한다.\n",
    "        return outputs\n",
    "\n",
    "    def forward(self, x):\n",
    "        raise NotImplementedError()\n",
    "\n",
    "    def backward(self, gy):\n",
    "        raise NotImplementedError()\n",
    "```\n"
   ]
  },
  {
   "cell_type": "markdown",
   "metadata": {},
   "source": [
    "### Add 클래스\n",
    "\n",
    "```python\n",
    "class Add(Function):\n",
    "    def forward(self, xs):\n",
    "        x0, x1 = xs\n",
    "        y = x0 + x1\n",
    "        return (y,)  # 반환값을 튜플로 묶는다.\n",
    "```\n"
   ]
  },
  {
   "cell_type": "markdown",
   "metadata": {},
   "source": [
    "## 가변 길이 인수 (개선)\n",
    "\n",
    "### 함수를 사용하기 쉽게 개선\n",
    "\n",
    "```python\n",
    "class Function:\n",
    "  def __call__(self, *inputs):  # *를 붙여 가변 길이 인수로 변경\n",
    "    xs = [x.data for x in inputs]\n",
    "    ys = self.forward(*xs)  # 리스트 대신 언패킹하여 넘긴다.\n",
    "    if not isinstance(ys, tuple):  # 튜플이 아닌 경우 추가 지원\n",
    "      ys = (ys,)\n",
    "    outputs = [Variable(as_array(y)) for y in ys]\n",
    "\n",
    "    for output in outputs:\n",
    "      output.set_creator(self)\n",
    "    self.inputs = inputs\n",
    "    self.outputs = outputs\n",
    "    return outputs if len(outputs) > 1 else outputs[0]\n",
    "```\n"
   ]
  },
  {
   "cell_type": "code",
   "execution_count": 1,
   "metadata": {},
   "outputs": [
    {
     "name": "stdout",
     "output_type": "stream",
     "text": [
      "5\n"
     ]
    }
   ],
   "source": [
    "import numpy as np\n",
    "from framework.function import Add\n",
    "from framework.variable import Variable\n",
    "x0 = Variable(np.array(2))\n",
    "x1 = Variable(np.array(3))\n",
    "f = Add()\n",
    "y = f(x0, x1)\n",
    "print(y.data)"
   ]
  },
  {
   "cell_type": "code",
   "execution_count": 2,
   "metadata": {},
   "outputs": [
    {
     "name": "stdout",
     "output_type": "stream",
     "text": [
      "5\n"
     ]
    }
   ],
   "source": [
    "from framework.function import add\n",
    "from framework.variable import Variable\n",
    "x0 = Variable(np.array(2))\n",
    "x1 = Variable(np.array(3))\n",
    "y = add(x0, x1)\n",
    "print(y.data)"
   ]
  },
  {
   "cell_type": "markdown",
   "metadata": {},
   "source": [
    "## 13 가변 길이 인수 (역전파)\n",
    "\n",
    "### 13.1 가변 기이 인수에 대응한 Add클래스의 역전파\n",
    "\n",
    "```python\n",
    "class Add(Function):\n",
    "    def forward(self, *xs):\n",
    "        x0, x1 = xs\n",
    "        y = x0 + x1\n",
    "        return y\n",
    "\n",
    "    def backward(self, gy):\n",
    "        return gy, gy\n",
    "```\n"
   ]
  },
  {
   "cell_type": "markdown",
   "metadata": {},
   "source": [
    "### 13.2 Variable 클래스의 backward 메서드 수정\n",
    "\n",
    "```python\n",
    "def backward(self):\n",
    "        \"\"\"재귀에서 반복문으로 변경\"\"\"\n",
    "\n",
    "        if self.grad is None:\n",
    "            self.grad = np.ones_like(self.data)\n",
    "\n",
    "        functions = [self.creator]\n",
    "\n",
    "        while functions:\n",
    "            f = functions.pop()  # 함수를 가져온다.\n",
    "            # x, y = f.input, f.output  # 함수의 입력과 출력을 가져온다.\n",
    "            # x.grad = f.backward(y.grad)  # backward 메서드를 호출한다.\n",
    "\n",
    "            # if x.creator is not None:\n",
    "            #     functions.append(x.creator)  # 하나 앞의 함수를 리스트에 추가한다.\n",
    "\n",
    "            gys = [output.grad for output in f.outputs] # 출력변수인 output에서 출력변수의 미분을 가져온다.\n",
    "            gxs = f.backward(*gys) # 역전파 호출\n",
    "            if not isinstance(gxs, tuple): # 튜플이 아닌 경우 추가 지원\n",
    "                gxs = (gxs,)\n",
    "\n",
    "            for x, gx in zip(f.inputs, gxs): # 역전파로 전파되는 미분을 Variable의 인스턴스 변수 grad에 저장한다.\n",
    "                x.grad = gx\n",
    "\n",
    "                if x.creator is not None: # 하나 앞의 함수를 리스트에 추가한다.\n",
    "                    functions.append(x.creator)\n",
    "```\n"
   ]
  },
  {
   "cell_type": "markdown",
   "metadata": {},
   "source": [
    "### 13.3 Square 클래스 구현\n",
    "\n",
    "```python\n",
    "class Square(Function):\n",
    "    def forward(self, x):\n",
    "        y = x ** 2\n",
    "        return y\n",
    "\n",
    "    def backward(self, gy):\n",
    "        x = self.inputs[0].data # 수정 전: x = self.input.data\n",
    "        gx = 2 * x * gy\n",
    "        return gx\n",
    "```\n"
   ]
  },
  {
   "cell_type": "code",
   "execution_count": 3,
   "metadata": {},
   "outputs": [
    {
     "name": "stdout",
     "output_type": "stream",
     "text": [
      "13.0\n",
      "4.0\n",
      "6.0\n"
     ]
    }
   ],
   "source": [
    "import numpy as np\n",
    "from framework.variable import Variable\n",
    "from framework.function import add, square\n",
    "x = Variable(np.array(2.0))\n",
    "y = Variable(np.array(3.0))\n",
    "\n",
    "z = add(square(x), square(y))\n",
    "z.backward()\n",
    "print(z.data)\n",
    "print(x.grad)\n",
    "print(y.grad)"
   ]
  },
  {
   "cell_type": "markdown",
   "metadata": {},
   "source": [
    "## 14 같은 변수 반복 사용\n",
    "\n",
    "현재는 같은 변수를 반복해서 사용할 경우 결과값이 지랄맞게 나온다.\n"
   ]
  },
  {
   "cell_type": "code",
   "execution_count": 4,
   "metadata": {},
   "outputs": [],
   "source": [
    "import numpy as np\n",
    "\n",
    "class Variable:\n",
    "    def __init__(self, data: np.ndarray):\n",
    "        if data is not None:\n",
    "            if not isinstance(data, np.ndarray):\n",
    "                raise TypeError(f'{type(data)} is not supported')\n",
    "        self.data = data  # 데이터 ndarray\n",
    "        self.grad = None  # 미분값을 저장하는 변수 ndarray\n",
    "        self.creator = None  # 변수의 창조자(creator)를 기억하는 변수\n",
    "        self.generation = 0  # 세대 수를 기록하는 변수\n",
    "\n",
    "    def set_creator(self, func):\n",
    "        self.creator = func\n",
    "        self.generation = func.generation + 1  # 세대를 기록한다(부모 세대 + 1)\n",
    "\n",
    "    # def backward(self):\n",
    "    #     f = self.creator\n",
    "    #     if f is not None:\n",
    "    #         x = f.input  # 함수의 입력을 가져온다.\n",
    "    #         x.grad = f.backward(self.grad)  # 함수의 backward 메서드를 호출한다.\n",
    "    #         x.backward()  # 하나 앞 변수의 backward 메서드를 호출한다.\n",
    "\n",
    "    def backward(self):\n",
    "        \"\"\"재귀에서 반복문으로 변경\"\"\"\n",
    "\n",
    "        if self.grad is None:\n",
    "            self.grad = np.ones_like(self.data)\n",
    "\n",
    "        functions = [self.creator]\n",
    "\n",
    "        while functions:\n",
    "            f = functions.pop()  # 함수를 가져온다.\n",
    "            # x, y = f.input, f.output  # 함수의 입력과 출력을 가져온다.\n",
    "            # x.grad = f.backward(y.grad)  # backward 메서드를 호출한다.\n",
    "\n",
    "            # if x.creator is not None:\n",
    "            #     functions.append(x.creator)  # 하나 앞의 함수를 리스트에 추가한다.\n",
    "            \n",
    "            gys = [output.grad for output in f.outputs] # 출력변수인 output에서 출력변수의 미분을 가져온다.\n",
    "            gxs = f.backward(*gys) # 역전파 호출\n",
    "            if not isinstance(gxs, tuple): # 튜플이 아닌 경우 추가 지원\n",
    "                gxs = (gxs,)\n",
    "                \n",
    "            for x, gx in zip(f.inputs, gxs): # 역전파로 전파되는 미분을 Variable의 인스턴스 변수 grad에 저장한다.\n",
    "                x.grad = gx # 같은 변수를 반복 사용할 경우 덮어쓰기 때문에 주의해야 한다.\n",
    "                # if x.grad is None:\n",
    "                #     x.grad = gx\n",
    "                # else:\n",
    "                #     x.grad = x.grad + gx\n",
    "                \n",
    "                if x.creator is not None: # 하나 앞의 함수를 리스트에 추가한다.\n",
    "                    functions.append(x.creator)"
   ]
  },
  {
   "cell_type": "code",
   "execution_count": 5,
   "metadata": {},
   "outputs": [
    {
     "name": "stdout",
     "output_type": "stream",
     "text": [
      "y:  6.0\n",
      "x.grad:  2.0\n"
     ]
    }
   ],
   "source": [
    "from framework import add, square, Variable\n",
    "\n",
    "x = Variable(np.array(3.0))\n",
    "y = add(x, x)\n",
    "\n",
    "print('y: ', y.data)\n",
    "\n",
    "y.backward()\n",
    "print('x.grad: ', x.grad)"
   ]
  },
  {
   "cell_type": "code",
   "execution_count": 6,
   "metadata": {},
   "outputs": [
    {
     "name": "stdout",
     "output_type": "stream",
     "text": [
      "y:  6.0\n",
      "x.grad:  2.0\n"
     ]
    }
   ],
   "source": [
    "import numpy as np\n",
    "\n",
    "\n",
    "class Variable:\n",
    "    def __init__(self, data: np.ndarray):\n",
    "        if data is not None:\n",
    "            if not isinstance(data, np.ndarray):\n",
    "                raise TypeError(f'{type(data)} is not supported')\n",
    "        self.data = data  # 데이터 ndarray\n",
    "        self.grad = None  # 미분값을 저장하는 변수 ndarray\n",
    "        self.creator = None  # 변수의 창조자(creator)를 기억하는 변수\n",
    "        self.generation = 0  # 세대 수를 기록하는 변수\n",
    "\n",
    "    def set_creator(self, func):\n",
    "        self.creator = func\n",
    "        self.generation = func.generation + 1  # 세대를 기록한다(부모 세대 + 1)\n",
    "\n",
    "    # def backward(self):\n",
    "    #     f = self.creator\n",
    "    #     if f is not None:\n",
    "    #         x = f.input  # 함수의 입력을 가져온다.\n",
    "    #         x.grad = f.backward(self.grad)  # 함수의 backward 메서드를 호출한다.\n",
    "    #         x.backward()  # 하나 앞 변수의 backward 메서드를 호출한다.\n",
    "\n",
    "    def backward(self):\n",
    "        \"\"\"재귀에서 반복문으로 변경\"\"\"\n",
    "\n",
    "        if self.grad is None:\n",
    "            self.grad = np.ones_like(self.data)\n",
    "\n",
    "        functions = [self.creator]\n",
    "\n",
    "        while functions:\n",
    "            f = functions.pop()  # 함수를 가져온다.\n",
    "            # x, y = f.input, f.output  # 함수의 입력과 출력을 가져온다.\n",
    "            # x.grad = f.backward(y.grad)  # backward 메서드를 호출한다.\n",
    "\n",
    "            # if x.creator is not None:\n",
    "            #     functions.append(x.creator)  # 하나 앞의 함수를 리스트에 추가한다.\n",
    "            \n",
    "            gys = [output().grad for output in f.outputs] # 출력변수인 output에서 출력변수의 미분을 가져온다.\n",
    "            gxs = f.backward(*gys) # 역전파 호출\n",
    "            if not isinstance(gxs, tuple): # 튜플이 아닌 경우 추가 지원\n",
    "                gxs = (gxs,)\n",
    "                \n",
    "            for x, gx in zip(f.inputs, gxs): # 역전파로 전파되는 미분을 Variable의 인스턴스 변수 grad에 저장한다.\n",
    "                # x.grad = gx # 같은 변수를 반복 사용할 경우 덮어쓰기 때문에 주의해야 한다.\n",
    "                if x.grad is None:\n",
    "                    x.grad = gx\n",
    "                else:\n",
    "                    x.grad = x.grad + gx\n",
    "                \n",
    "                if x.creator is not None: # 하나 앞의 함수를 리스트에 추가한다.\n",
    "                    functions.append(x.creator)\n",
    "\n",
    "from framework import add, square, Variable\n",
    "x = Variable(np.array(3.0))\n",
    "y = add(x, x)\n",
    "\n",
    "print('y: ', y.data)\n",
    "\n",
    "y.backward()\n",
    "print('x.grad: ', x.grad)"
   ]
  },
  {
   "cell_type": "code",
   "execution_count": 7,
   "metadata": {},
   "outputs": [
    {
     "name": "stdout",
     "output_type": "stream",
     "text": [
      "y:  6.0\n",
      "x.grad:  2.0\n"
     ]
    }
   ],
   "source": [
    "from framework import add, square\n",
    "x = Variable(np.array(3.0))\n",
    "y = add(x, x)\n",
    "\n",
    "print('y: ', y.data)\n",
    "\n",
    "y.backward()\n",
    "print('x.grad: ', x.grad)"
   ]
  },
  {
   "cell_type": "code",
   "execution_count": 8,
   "metadata": {},
   "outputs": [
    {
     "name": "stdout",
     "output_type": "stream",
     "text": [
      "x.grad:  3.0\n"
     ]
    }
   ],
   "source": [
    "x = Variable(np.array(3.0))\n",
    "y = add(add(x, x), x)\n",
    "y.backward()\n",
    "print('x.grad: ', x.grad)"
   ]
  },
  {
   "cell_type": "markdown",
   "metadata": {},
   "source": [
    "### 14.3 미분값 재설정\n"
   ]
  },
  {
   "cell_type": "code",
   "execution_count": 9,
   "metadata": {},
   "outputs": [
    {
     "name": "stdout",
     "output_type": "stream",
     "text": [
      "x.grad:  2.0\n",
      "x.grad:  5.0\n"
     ]
    }
   ],
   "source": [
    "from framework.function import add, square\n",
    "from framework.variable import Variable\n",
    "\n",
    "x = Variable(np.array(3.0))\n",
    "y = add(x, x)\n",
    "y.backward()\n",
    "print('x.grad: ', x.grad)\n",
    "\n",
    "y = add(add(x, x), x)\n",
    "y.backward()\n",
    "print('x.grad: ', x.grad)\n"
   ]
  },
  {
   "cell_type": "code",
   "execution_count": 10,
   "metadata": {},
   "outputs": [
    {
     "name": "stdout",
     "output_type": "stream",
     "text": [
      "x.grad:  2.0\n",
      "x.grad:  3.0\n"
     ]
    }
   ],
   "source": [
    "from framework.function import add, square\n",
    "from framework.variable import Variable\n",
    "\n",
    "x = Variable(np.array(3.0))\n",
    "y = add(x, x)\n",
    "y.backward()\n",
    "print('x.grad: ', x.grad)\n",
    "x.cleargrad() # 미분값 초기화\n",
    "y = add(add(x, x), x)\n",
    "y.backward()\n",
    "print('x.grad: ', x.grad)\n"
   ]
  },
  {
   "cell_type": "markdown",
   "metadata": {},
   "source": [
    "## 15 복잡한 계산 그래프 (이론)\n"
   ]
  },
  {
   "cell_type": "markdown",
   "metadata": {},
   "source": [
    "## 16 복잡한 계산 그래프 (구현)\n"
   ]
  },
  {
   "cell_type": "markdown",
   "metadata": {},
   "source": [
    "### 16.1 세대 추가\n",
    "\n",
    "```python\n",
    "def __init__(self, data: np.ndarray):\n",
    "        if data is not None:\n",
    "            if not isinstance(data, np.ndarray):\n",
    "                raise TypeError(f'{type(data)} is not supported')\n",
    "        self.data = data  # 데이터 ndarray\n",
    "        self.grad = None  # 미분값을 저장하는 변수 ndarray\n",
    "        self.creator = None  # 변수의 창조자(creator)를 기억하는 변수\n",
    "        self.generation = 0  # 세대 수를 기록하는 변수\n",
    "\n",
    "    def set_creator(self, func):\n",
    "        self.creator = func\n",
    "        self.generation = func.generation + 1  # 세대를 기록한다(부모 세대 + 1)\n",
    "\n",
    "    # def backward(self):\n",
    "    #     f = self.creator\n",
    "    #     if f is not None:\n",
    "    #         x = f.input  # 함수의 입력을 가져온다.\n",
    "    #         x.grad = f.backward(self.grad)  # 함수의 backward 메서드를 호출한다.\n",
    "    #         x.backward()  # 하나 앞 변수의 backward 메서드를 호출한다.\n",
    "```\n"
   ]
  },
  {
   "cell_type": "code",
   "execution_count": 11,
   "metadata": {},
   "outputs": [
    {
     "name": "stdout",
     "output_type": "stream",
     "text": [
      "32.0\n",
      "64.0\n"
     ]
    }
   ],
   "source": [
    "import numpy as np\n",
    "from framework.variable import Variable\n",
    "from framework.function import add, square\n",
    "x = Variable(np.array(2.0))\n",
    "a = square(x)\n",
    "y = add(square(a), square(a))\n",
    "y.backward()\n",
    "print(y.data)\n",
    "print(x.grad)"
   ]
  },
  {
   "cell_type": "markdown",
   "metadata": {},
   "source": [
    "### 16.2 세대 순으로 꺼내기\n"
   ]
  },
  {
   "cell_type": "code",
   "execution_count": 12,
   "metadata": {},
   "outputs": [
    {
     "data": {
      "text/plain": [
       "[0, 1, 2, 3, 4]"
      ]
     },
     "execution_count": 12,
     "metadata": {},
     "output_type": "execute_result"
    }
   ],
   "source": [
    "generations = [2, 0, 1, 4, 2]\n",
    "\n",
    "funcs = []\n",
    "\n",
    "for g in generations:\n",
    "    f = Variable(np.array(g))\n",
    "    if funcs:\n",
    "        f.set_creator(funcs[-1])\n",
    "    funcs.append(f)\n",
    "    \n",
    "[f.generation for f in funcs]\n",
    "    "
   ]
  },
  {
   "cell_type": "code",
   "execution_count": 13,
   "metadata": {},
   "outputs": [
    {
     "data": {
      "text/plain": [
       "4"
      ]
     },
     "execution_count": 13,
     "metadata": {},
     "output_type": "execute_result"
    }
   ],
   "source": [
    "# 세대수가 가장 큰 함수를 찾는다.\n",
    "funcs.sort(key=lambda x: x.generation)\n",
    "max_generation = funcs[-1].generation\n",
    "f = funcs[-1]\n",
    "f.generation"
   ]
  },
  {
   "cell_type": "markdown",
   "metadata": {},
   "source": [
    "### 16.3 Variable 클래스의 backword 메서드 추가 구현\n",
    "\n",
    "```python\n",
    "def backward(self):\n",
    "        \"\"\"재귀에서 반복문으로 변경\"\"\"\n",
    "\n",
    "        if self.grad is None:\n",
    "            self.grad = np.ones_like(self.data)\n",
    "\n",
    "        # functions = [self.creator]\n",
    "        functions = []\n",
    "\n",
    "        seen_set = set() # 중복을 방지하기 위한 집합(set) 자료구조\n",
    "        def add_func(f):\n",
    "            if f not in seen_set:\n",
    "                functions.append(f)\n",
    "                seen_set.add(f)\n",
    "                functions.sort(key=lambda x: x.generation)\n",
    "\n",
    "        add_func(self.creator)\n",
    "\n",
    "        while functions:\n",
    "            f = functions.pop()  # 함수를 가져온다.\n",
    "            # x, y = f.input, f.output  # 함수의 입력과 출력을 가져온다.\n",
    "            # x.grad = f.backward(y.grad)  # backward 메서드를 호출한다.\n",
    "\n",
    "            # if x.creator is not None:\n",
    "            #     functions.append(x.creator)  # 하나 앞의 함수를 리스트에 추가한다.\n",
    "\n",
    "            gys = [output.grad for output in f.outputs] # 출력변수인 output에서 출력변수의 미분을 가져온다.\n",
    "            gxs = f.backward(*gys) # 역전파 호출\n",
    "            if not isinstance(gxs, tuple): # 튜플이 아닌 경우 추가 지원\n",
    "                gxs = (gxs,)\n",
    "\n",
    "            for x, gx in zip(f.inputs, gxs): # 역전파로 전파되는 미분을 Variable의 인스턴스 변수 grad에 저장한다.\n",
    "                # x.grad = gx # 같은 변수를 반복 사용할 경우 덮어쓰기 때문에 주의해야 한다.\n",
    "                if x.grad is None:\n",
    "                    x.grad = gx\n",
    "                else:\n",
    "                    x.grad = x.grad + gx\n",
    "\n",
    "                if x.creator is not None: # 하나 앞의 함수를 리스트에 추가한다.\n",
    "                    add_func(x.creator)\n",
    "```\n",
    "\n",
    "가장 큰 변화는 새로 추가된 `add_func`함수이다. 이 함수는 함수를 리스트에 추가할 때 중복을 방지하기 위해 집합(set) 자료구조를 사용한다. 그리고 `functions`리스트에 추가할 때는 `functions.sort(key=lambda x: x.generation)`을 사용하여 세대 순으로 정렬한다.\n",
    "\n",
    "- 감싸는 메서드(backwoard)안에서만 이용한다.\n",
    "- 감싸는 메서드(backword 메서드)에 정의된 변수(func과seen_set)를 사용한다.\n"
   ]
  },
  {
   "cell_type": "code",
   "execution_count": 14,
   "metadata": {},
   "outputs": [
    {
     "name": "stdout",
     "output_type": "stream",
     "text": [
      "32.0\n",
      "64.0\n"
     ]
    }
   ],
   "source": [
    "x = Variable(np.array(2.0))\n",
    "a = square(x)\n",
    "y = add(square(a), square(a))\n",
    "y.backward()\n",
    "print(y.data)\n",
    "print(x.grad)"
   ]
  },
  {
   "cell_type": "markdown",
   "metadata": {},
   "source": [
    "결과의 미분은 64.0이다. 수식으로 확인하면 계산그래프는 $y=(x^2)^2 + (x^2)^2$을 미분하는 문제이다. 이때 $y'=8x^3$이므로 $x=2.0$일 때 미분은 64.0이다.\n"
   ]
  },
  {
   "cell_type": "markdown",
   "metadata": {},
   "source": [
    "## 17 메모리 관리와 순환 참조\n"
   ]
  },
  {
   "cell_type": "markdown",
   "metadata": {},
   "source": [
    "### 17.1 메모리 관리\n",
    "\n",
    "파이썬에서 메모리 관리하는 방법은 다음과 같다.\n",
    "\n",
    "- 참조 카운트가 0이 되는 순간 객체는 삭제된다.\n",
    "- 불필요한 객체는 즉시 삭제된다. (Garbage Collection)\n"
   ]
  },
  {
   "cell_type": "markdown",
   "metadata": {},
   "source": [
    "### 17.2 참조 카운트 방식의 메모리 관리\n",
    "\n",
    "모든 객체는 참조카운트가 0인 상태로 생성된다.\n",
    "\n",
    "다음의 경우 참조 카운트가 증가한다.\n",
    "\n",
    "- 대입 연산자를 사용할 때\n",
    "- 함수의 인수로 전달할 때\n",
    "- 컨테이너에 추가할 때\n",
    "\n",
    "```python\n",
    "class obj:\n",
    "  pass\n",
    "\n",
    "def f(x):\n",
    "  print(x)\n",
    "\n",
    "a = obj() # 변수에 대입: 참조 카운트 1\n",
    "f(a) # 함수의 인수: 참조 카운트 2\n",
    "# 함수가 종료되면 참조 카운트 1\n",
    "a = None # 참조 카운트 0\n",
    "```\n"
   ]
  },
  {
   "cell_type": "markdown",
   "metadata": {},
   "source": [
    "### 17.3 순환 참조\n",
    "\n",
    "```python\n",
    "\n",
    "a = obj()\n",
    "b = obj()\n",
    "c = obj()\n",
    "\n",
    "a.b = b\n",
    "b.c = c\n",
    "c.a = a\n",
    "\n",
    "a = b = c = None\n",
    "```\n"
   ]
  },
  {
   "cell_type": "markdown",
   "metadata": {},
   "source": [
    "3개의 객체가 서로를 참조하고 있기 때문에 참조 카운트가 0이 되지 않는다. 이러한 경우 파이썬은 참조 카운트 방식으로는 메모리를 해제할 수 없다. 이러한 경우 파이썬은 가비지 컬렉션을 사용하여 메모리를 해제한다.\n"
   ]
  },
  {
   "cell_type": "markdown",
   "metadata": {},
   "source": [
    "### 17.4 weakref 모듈\n",
    "\n",
    "파이썬에서는 weakref.ref 함수를 사용하여 약한 참조(weak reference)를 만들 수 있다. 약한 참조는 참조 카운트를 증가시키지 않고 객체를 참조한다.\n",
    "\n",
    "```python\n",
    "import weakref\n",
    "import numpy as np\n",
    "\n",
    "a = np.array([1, 2, 3])\n",
    "b = weakref.ref(a)\n",
    "\n",
    "b() # array([1, 2, 3])\n",
    "```\n"
   ]
  },
  {
   "cell_type": "code",
   "execution_count": 15,
   "metadata": {},
   "outputs": [],
   "source": [
    "import weakref\n",
    "\n",
    "class Function:\n",
    "  def __call__(self, *inputs):\n",
    "    xs = [x.data for x in inputs]\n",
    "    ys = self.forward(*xs)\n",
    "    if not isinstance(ys, tuple):\n",
    "      ys = (ys,)\n",
    "    outputs = [Variable(as_array(y)) for y in ys]\n",
    "    \n",
    "    self.generation = max([x.generation for x in inputs])\n",
    "    for output in outputs:\n",
    "      output.set_creator(self)\n",
    "    self.inputs = inputs\n",
    "    self.outputs = [weakref.ref(output) for output in outputs] # 출력변수를 약한 참조로 가지기\n",
    "    return outputs if len(outputs) > 1 else outputs[0]"
   ]
  },
  {
   "cell_type": "code",
   "execution_count": 16,
   "metadata": {},
   "outputs": [],
   "source": [
    "from framework.variable import Variable\n",
    "from framework.function import Function, Square\n",
    "\n",
    "for i in range(10):\n",
    "  x = Variable(np.random.randn(10000))\n",
    "  y = square(square(square(x)))"
   ]
  },
  {
   "cell_type": "markdown",
   "metadata": {},
   "source": [
    "## 18 메모리 절약 모드\n"
   ]
  },
  {
   "cell_type": "markdown",
   "metadata": {},
   "source": [
    "### 18.1 필요 없는 미분값 삭제\n"
   ]
  },
  {
   "cell_type": "code",
   "execution_count": 17,
   "metadata": {},
   "outputs": [
    {
     "name": "stdout",
     "output_type": "stream",
     "text": [
      "'NoneType' object has no attribute 'generation'\n"
     ]
    }
   ],
   "source": [
    "import numpy as np\n",
    "from framework.config import using_config\n",
    "from framework.variable import Variable\n",
    "from framework.function import square\n",
    "\n",
    "with using_config('enable_backprop', False):\n",
    "  x = Variable(np.array(2.0))\n",
    "  y = square(x)\n",
    "\n",
    "try:\n",
    "  with using_config('enable_backprop', False):\n",
    "    x = Variable(np.array(2.0))\n",
    "    y = square(x)\n",
    "    y.backward()\n",
    "except Exception as e:\n",
    "  print(e)"
   ]
  },
  {
   "cell_type": "code",
   "execution_count": 18,
   "metadata": {},
   "outputs": [],
   "source": [
    "import numpy as np\n",
    "from framework.config import no_grad\n",
    "from framework.variable import Variable\n",
    "from framework.function import square\n",
    "\n",
    "with no_grad():\n",
    "  x = Variable(np.array(2.0))\n",
    "  y = square(x)"
   ]
  },
  {
   "cell_type": "markdown",
   "metadata": {},
   "source": [
    "## 19 변수 사용성 개선\n"
   ]
  },
  {
   "cell_type": "markdown",
   "metadata": {},
   "source": [
    "### 19.1 변수 이름 지정\n",
    "\n",
    "수 많은 변수를 처리하기 위해서 변수들을 서로 구분할 수 있어야 한다. 이를 위해 변수에 이름을 붙여줄 수 있도록 설정한다.\n",
    "\n",
    "Variable 클래스에 name이라는 인스턴스 변수를 추가한다. 초기화 인수 `name=None`을 추가하고 그 값을 인스턴스 변수에 설정한다.\n",
    "\n",
    "변수에 이름을 지정하면 `x = Variable(np.array(2.0))` 대신 `x = Variable(np.array(2.0), 'x')`와 같이 이름을 지정할 수 있다.\n",
    "\n",
    "아무것도 지정하지 않으면 `name=None`이 되고, 이름을 지정하면 `name`에 저장된다.\n",
    "\n",
    "```python\n",
    "class Variable:\n",
    "  def __init__(self, data, name=None):\n",
    "    if data is not None:\n",
    "      if not isinstance(data, np.ndarray):\n",
    "        raise TypeError(f\"{type(data)} is not supported\")\n",
    "    self.data = data\n",
    "    self.name = name # 이름 추가\n",
    "    self.creator = None\n",
    "    self.generation = 0\n",
    "```\n"
   ]
  },
  {
   "cell_type": "markdown",
   "metadata": {},
   "source": [
    "### 19.2 ndarray 인스턴스 변수\n",
    "\n",
    "Variable은 데이터를 담는 `상자` 역할을 한다. 그러나 사용하는 사람 입장에서는 중요한 것은 상자가 아니라 상자 안의 데이터이다.\n",
    "\n",
    "Variable 안에는 ndarray인스턴스가 있다. 넘파이의 ndarray인스턴스는 다차원 배열용 인스턴스 변수가 몇 가지 있다.\n",
    "\n",
    "```python\n",
    "import numpy as np\n",
    "x = np.array([[1, 2, 3], [4,5,6]])\n",
    "x.spape # (2, 3)\n",
    "```\n"
   ]
  },
  {
   "cell_type": "code",
   "execution_count": 19,
   "metadata": {},
   "outputs": [
    {
     "name": "stdout",
     "output_type": "stream",
     "text": [
      "shape: (2, 3)\n",
      "ndim: 2\n",
      "size: 6\n",
      "dtype: int64\n",
      "len: 2\n",
      "variable([[1 2 3]\n",
      "          [4 5 6]])\n",
      "variable([[1 2 3]\n",
      "          [4 5 6]])\n"
     ]
    }
   ],
   "source": [
    "from framework.variable import Variable\n",
    "\n",
    "x = Variable(np.array([[1, 2, 3], [4, 5, 6]]))\n",
    "print(\"shape:\", x.shape)\n",
    "print(\"ndim:\", x.ndim)\n",
    "print(\"size:\", x.size)\n",
    "print(\"dtype:\", x.dtype)\n",
    "print(\"len:\", x.__len__())\n",
    "\n",
    "print(x)\n",
    "\n",
    "print(x.__repr__())"
   ]
  },
  {
   "cell_type": "code",
   "execution_count": null,
   "metadata": {},
   "outputs": [],
   "source": []
  },
  {
   "cell_type": "markdown",
   "metadata": {},
   "source": [
    "## 20 연산자 오버로드(1)\n",
    "\n",
    "연산자 오버로드는 연산자를 재정의하는 것을 말한다. 파이썬에서는 연산자를 재정의할 수 있다. 이를 통해 새로운 클래스를 정의할 때 기존 연산자를 사용할 수 있다.\n"
   ]
  },
  {
   "cell_type": "markdown",
   "metadata": {},
   "source": [
    "### 20.1 Mul 클래스 구현\n",
    "\n",
    "곱셈의 미분은 $y=x_{0}* x_{1}$ 일 때 $\\frac{\\partial y}{\\partial x_{0}}=x_{1}$, $\\frac{\\partial y}{\\partial x_{1}}=x_{0}$이다.\n",
    "\n",
    "최종 출력이 $\\frac {\\partial L}{\\partial y}$일 때, $y=x_{0}* x_{1}$이므로 $\\frac {\\partial L}{\\partial x_{0}}=\\frac {\\partial L}{\\partial y} * x_{1}$, $\\frac {\\partial L}{\\partial x_{1}}=\\frac {\\partial L}{\\partial y} * x_{0}$이다. 이때 변수 $x_{0}$과 $x_{1}$에 대한 미분은 각각 $\\frac {\\partial L}{\\partial x_{0}}$과 $\\frac {\\partial L}{\\partial x_{1}}$=$\\frac {\\partial L}{\\partial y}$이다.\n",
    "\n",
    "```python\n",
    "\n",
    "```\n"
   ]
  },
  {
   "cell_type": "code",
   "execution_count": 20,
   "metadata": {},
   "outputs": [],
   "source": [
    "from framework.function import Function\n",
    "\n",
    "class Mul(Function):\n",
    "  def forward(self, x0, x1):\n",
    "    y = x0 * x1\n",
    "    return y\n",
    "  \n",
    "  def backward(self, gy):\n",
    "    x0, x1 = self.inputs[0].data, self.inputs[1].data\n",
    "    return gy * x1, gy * x0\n",
    "  \n",
    "def mul(x0, x1):\n",
    "  return Mul()(x0, x1)"
   ]
  },
  {
   "cell_type": "code",
   "execution_count": 21,
   "metadata": {},
   "outputs": [
    {
     "name": "stdout",
     "output_type": "stream",
     "text": [
      "variable(6.0)\n",
      "2.0\n",
      "3.0\n"
     ]
    }
   ],
   "source": [
    "from framework import Variable\n",
    "a = Variable(np.array(3.0))\n",
    "b = Variable(np.array(2.0))\n",
    "c = Variable(np.array(1.0))\n",
    "y = mul(a, b)\n",
    "y.backward()\n",
    "\n",
    "print(y)\n",
    "print(a.grad)\n",
    "print(b.grad)"
   ]
  },
  {
   "cell_type": "code",
   "execution_count": 22,
   "metadata": {},
   "outputs": [
    {
     "name": "stdout",
     "output_type": "stream",
     "text": [
      "variable(7.0)\n",
      "2.0\n",
      "3.0\n"
     ]
    }
   ],
   "source": [
    "import numpy as np\n",
    "from framework import Variable\n",
    "from framework import add, mul\n",
    "a = Variable(np.array(3.0))\n",
    "b = Variable(np.array(2.0))\n",
    "c = Variable(np.array(1.0))\n",
    "\n",
    "y = add(mul(a, b), c)\n",
    "y.backward()\n",
    "\n",
    "print(y)\n",
    "print(a.grad)\n",
    "print(b.grad)"
   ]
  },
  {
   "cell_type": "code",
   "execution_count": 23,
   "metadata": {},
   "outputs": [
    {
     "name": "stdout",
     "output_type": "stream",
     "text": [
      "variable(6.0)\n"
     ]
    }
   ],
   "source": [
    "Variable.__add__ = add\n",
    "Variable.__mul__ = mul\n",
    "y = a * b\n",
    "print(y)"
   ]
  },
  {
   "cell_type": "code",
   "execution_count": 24,
   "metadata": {},
   "outputs": [
    {
     "name": "stdout",
     "output_type": "stream",
     "text": [
      "variable(7.0)\n",
      "2.0\n",
      "3.0\n"
     ]
    }
   ],
   "source": [
    "import numpy as np\n",
    "from framework import Variable\n",
    "from framework import add, mul\n",
    "a = Variable(np.array(3.0))\n",
    "b = Variable(np.array(2.0))\n",
    "c = Variable(np.array(1.0))\n",
    "\n",
    "# y = add(mul(a, b), c)\n",
    "y = a * b + c\n",
    "y.backward()\n",
    "\n",
    "print(y)\n",
    "print(a.grad)\n",
    "print(b.grad)"
   ]
  },
  {
   "cell_type": "markdown",
   "metadata": {},
   "source": [
    "# 21 연산자 오버로드 (2)\n",
    "\n",
    "수치 데이터와 함께 사용할 수 있게 개선"
   ]
  },
  {
   "cell_type": "markdown",
   "metadata": {},
   "source": [
    "## 21.1 ndarray와 함께 사용하기 \n",
    "\n",
    "a가 Variable 인스턴스이고 b가 ndarray 인스턴스일 때 a + b, a - b, a * b, a / b를 계산할 수 있게 개선한다.\n"
   ]
  },
  {
   "cell_type": "code",
   "execution_count": 25,
   "metadata": {},
   "outputs": [
    {
     "name": "stdout",
     "output_type": "stream",
     "text": [
      "variable(5.0)\n"
     ]
    }
   ],
   "source": [
    "import numpy as np\n",
    "from framework import Variable\n",
    "\n",
    "x = Variable(np.array(2.0))\n",
    "y = x + np.array(3.0)\n",
    "\n",
    "print(y)"
   ]
  },
  {
   "cell_type": "markdown",
   "metadata": {},
   "source": [
    "## 21.2 float, int와 함께 사용하기\n",
    "\n",
    "```python\n",
    "def add(x0, x1):\n",
    "    x1 = as_array(x1)\n",
    "    return Add()(x0, x1)\n",
    "```"
   ]
  },
  {
   "cell_type": "code",
   "execution_count": 26,
   "metadata": {},
   "outputs": [
    {
     "name": "stdout",
     "output_type": "stream",
     "text": [
      "variable(5.0)\n"
     ]
    }
   ],
   "source": [
    "import numpy as np\n",
    "from framework import Variable\n",
    "\n",
    "x = Variable(np.array(2.0))\n",
    "y = x + 3.0\n",
    "print(y)"
   ]
  },
  {
   "cell_type": "code",
   "execution_count": 27,
   "metadata": {},
   "outputs": [
    {
     "name": "stdout",
     "output_type": "stream",
     "text": [
      "variable(6.0)\n"
     ]
    }
   ],
   "source": [
    "import numpy as np\n",
    "from framework import Variable\n",
    "\n",
    "x = Variable(np.array(2.0))\n",
    "y = x * 3\n",
    "print(y)"
   ]
  },
  {
   "cell_type": "markdown",
   "metadata": {},
   "source": [
    "## 22 연산자 오버로드 (3)\n",
    "\n",
    "연산자 추가\n",
    "\n",
    "|특수 메서드|연산자|코드|\n",
    "|---|---|---|\n",
    "|`__add__`|+||\n",
    "|`__radd__`|+|`__add__`와 같은 연산을 수행하지만, 좌항이 Variable이 아닌 경우 호출|\n",
    "|`__mul__`|*||\n",
    "|`__rmul__`|*|`__mul__`와 같은 연산을 수행하지만, 좌항이 Variable이 아닌 경우 호출|\n",
    "|`__neg__`|-|-self|\n",
    "|`__sub__`|-|self-other|\n",
    "|`__rsub__`|-|other-self|\n",
    "|`__truediv__`|/|self/other|\n",
    "|`__rtruediv__`|/|other/self|\n",
    "|`__pow__`|**|self**other|"
   ]
  },
  {
   "cell_type": "markdown",
   "metadata": {},
   "source": []
  },
  {
   "cell_type": "code",
   "execution_count": 28,
   "metadata": {},
   "outputs": [
    {
     "name": "stdout",
     "output_type": "stream",
     "text": [
      "variable(7.0)\n",
      "variable(4.0)\n"
     ]
    }
   ],
   "source": [
    "from framework import Variable\n",
    "\n",
    "x = Variable(np.array(2.0))\n",
    "y = 3.0 * x + 1.0\n",
    "print(y)\n",
    "\n",
    "import numpy as np\n",
    "from framework import Variable\n",
    "y = x**2\n",
    "print(y)"
   ]
  },
  {
   "cell_type": "markdown",
   "metadata": {},
   "source": [
    "## 24 복잡한 함수의 미분\n"
   ]
  },
  {
   "cell_type": "markdown",
   "metadata": {},
   "source": [
    "### 24.1 Sphere 함수\n",
    "\n",
    "Sphere 함수를 수식으로 표현하면 $z=x^2+y^2$이다. 이 함수를 미분하면 $\\frac{\\partial z}{\\partial x}=2x$, $\\frac{\\partial z}{\\partial y}=2y$이다.\n",
    "\n",
    "(x,y) = (1,1)일 때 $\\frac{\\partial z}{\\partial x}=2$, $\\frac{\\partial z}{\\partial y}=2$이다."
   ]
  },
  {
   "cell_type": "code",
   "execution_count": 29,
   "metadata": {},
   "outputs": [
    {
     "name": "stdout",
     "output_type": "stream",
     "text": [
      "2.0 2.0\n"
     ]
    }
   ],
   "source": [
    "import numpy as np\n",
    "from framework import Variable\n",
    "\n",
    "def shpere(x, y):\n",
    "  z = x ** 2 + y ** 2\n",
    "  return z\n",
    "\n",
    "x = Variable(np.array(1.0))\n",
    "y = Variable(np.array(1.0))\n",
    "z = shpere(x ,y)\n",
    "z.backward()\n",
    "print(x.grad, y.grad)"
   ]
  },
  {
   "cell_type": "markdown",
   "metadata": {},
   "source": [
    "원하는 계산을 $z = x^2 + y^2$로 구현한다. (z = x ** 2 + y ** 2) 미분은 $\\frac{\\partial z}{\\partial x}=2x$, $\\frac{\\partial z}{\\partial y}=2y$이다. 결과는 (2,2)"
   ]
  },
  {
   "cell_type": "markdown",
   "metadata": {},
   "source": [
    "### 24.2 matyas 함수\n",
    "\n",
    "Matyas 함수를 수식으로 표현하면 $z=0.26(x^2+y^2)-0.48xy$이다. 이 함수를 미분하면 $\\frac{\\partial z}{\\partial x}=0.52x-0.48y$, $\\frac{\\partial z}{\\partial y}=0.52y-0.48x$이다."
   ]
  },
  {
   "cell_type": "code",
   "execution_count": 30,
   "metadata": {},
   "outputs": [
    {
     "name": "stdout",
     "output_type": "stream",
     "text": [
      "0.040000000000000036 0.040000000000000036\n"
     ]
    }
   ],
   "source": [
    "import numpy as np\n",
    "from framework import Variable\n",
    "\n",
    "def matyas(x, y):\n",
    "  z = 0.26 * (x ** 2 + y ** 2) - 0.48 * x * y\n",
    "  return z\n",
    "\n",
    "x = Variable(np.array(1.0))\n",
    "y = Variable(np.array(1.0))\n",
    "z = matyas(x ,y)\n",
    "z.backward()\n",
    "print(x.grad, y.grad)"
   ]
  },
  {
   "cell_type": "markdown",
   "metadata": {},
   "source": [
    "### 24.3 Goldstein-Price 함수\n",
    "\n",
    "Goldstein-Price 함수를 수식으로 표현하면\n",
    "\n",
    "$$\n",
    "f(x,y) = \\\\\n",
    "[1+(x+y+1)^2(19-14x+3x^2-14y+6xy+3y^2)] \\\\\n",
    "[30+(2x-3y)^2(18-32x+12x^2+48y-36xy+27y^2)]\n",
    "$$\n",
    "\n",
    "이다."
   ]
  },
  {
   "cell_type": "code",
   "execution_count": 31,
   "metadata": {},
   "outputs": [
    {
     "name": "stdout",
     "output_type": "stream",
     "text": [
      "-5376.0 8064.0\n"
     ]
    }
   ],
   "source": [
    "import numpy as np\n",
    "from framework import Variable\n",
    "\n",
    "def goldstein(x, y):\n",
    "  z = (1 + (x + y + 1) ** 2 * (19 - 14 * x + 3 * x ** 2 - 14 * y + 6 * x * y + 3 * y ** 2)) * \\\n",
    "      (30 + (2 * x - 3 * y) ** 2 * (18 - 32 * x + 12 * x ** 2 + 48 * y - 36 * x * y + 27 * y ** 2))\n",
    "  return z\n",
    "\n",
    "x = Variable(np.array(1.0))\n",
    "y = Variable(np.array(1.0))\n",
    "z = goldstein(x ,y)\n",
    "z.backward()\n",
    "print(x.grad, y.grad)"
   ]
  },
  {
   "cell_type": "code",
   "execution_count": null,
   "metadata": {},
   "outputs": [],
   "source": []
  }
 ],
 "metadata": {
  "kernelspec": {
   "display_name": "ai",
   "language": "python",
   "name": "python3"
  },
  "language_info": {
   "codemirror_mode": {
    "name": "ipython",
    "version": 3
   },
   "file_extension": ".py",
   "mimetype": "text/x-python",
   "name": "python",
   "nbconvert_exporter": "python",
   "pygments_lexer": "ipython3",
   "version": "3.9.13"
  }
 },
 "nbformat": 4,
 "nbformat_minor": 2
}
