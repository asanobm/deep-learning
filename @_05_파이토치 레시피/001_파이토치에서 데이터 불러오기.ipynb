{
 "cells": [
  {
   "cell_type": "markdown",
   "metadata": {},
   "source": [
    "# PyTorch에서 데이터 불러오기\n",
    "\n",
    "1. 라이브러리 불러오기\n",
    "2. 데이터 접근하기\n",
    "3. 데이터 불러오기\n",
    "4. 데이터 순회하기\n",
    "5. 데이터 시각화 (선택)"
   ]
  },
  {
   "cell_type": "markdown",
   "metadata": {},
   "source": [
    "## 1 라이브러리 import 하기"
   ]
  },
  {
   "cell_type": "code",
   "execution_count": 1,
   "metadata": {},
   "outputs": [],
   "source": [
    "import torch\n",
    "import torchaudio"
   ]
  },
  {
   "cell_type": "markdown",
   "metadata": {},
   "source": [
    "## 2 데이터 접근하기\n",
    "\n",
    "torchaudio의 YesNo 데이터셋은 한 사람이 \"Yes\"와 \"No\"를 각각 60번씩 녹음한 데이터셋입니다. 각 녹음은 8kHz의 샘플링 레이트로 녹음되었습니다. 이 데이터셋은 8개의 클래스로 구성되어 있습니다. 각 클래스는 \"Yes\"와 \"No\"를 각각 60번씩 녹음한 데이터입니다.\n",
    "\n",
    "각각의 데이터 항목(item)은 튜플 형태 (waveform: 파형, sample_rate: 샘플 속도, labels: 라벨)로 구성되어 있다."
   ]
  },
  {
   "cell_type": "code",
   "execution_count": 2,
   "metadata": {},
   "outputs": [],
   "source": [
    "!mkdir -p ./data/yesno"
   ]
  },
  {
   "cell_type": "code",
   "execution_count": 3,
   "metadata": {},
   "outputs": [
    {
     "name": "stderr",
     "output_type": "stream",
     "text": [
      "100%|██████████| 4.49M/4.49M [00:42<00:00, 111kB/s] \n"
     ]
    }
   ],
   "source": [
    "yesno_data = torchaudio.datasets.YESNO(\n",
    "  root=\"./data/yesno\",\n",
    "  url=\"http://www.openslr.org/resources/1/waves_yesno.tar.gz\",\n",
    "  folder_in_archive=\"waves_yesno\",\n",
    "  download=True\n",
    ")"
   ]
  },
  {
   "cell_type": "code",
   "execution_count": 4,
   "metadata": {},
   "outputs": [],
   "source": [
    "data_loader = torch.utils.data.DataLoader(yesno_data, batch_size=1, shuffle=True)"
   ]
  },
  {
   "cell_type": "code",
   "execution_count": 5,
   "metadata": {},
   "outputs": [
    {
     "data": {
      "text/plain": [
       "<torch.utils.data.dataloader.DataLoader at 0x7fa1e7b29df0>"
      ]
     },
     "execution_count": 5,
     "metadata": {},
     "output_type": "execute_result"
    }
   ],
   "source": [
    "data_loader"
   ]
  },
  {
   "cell_type": "code",
   "execution_count": null,
   "metadata": {},
   "outputs": [],
   "source": []
  }
 ],
 "metadata": {
  "kernelspec": {
   "display_name": "ai",
   "language": "python",
   "name": "python3"
  },
  "language_info": {
   "codemirror_mode": {
    "name": "ipython",
    "version": 3
   },
   "file_extension": ".py",
   "mimetype": "text/x-python",
   "name": "python",
   "nbconvert_exporter": "python",
   "pygments_lexer": "ipython3",
   "version": "3.9.12"
  }
 },
 "nbformat": 4,
 "nbformat_minor": 2
}
