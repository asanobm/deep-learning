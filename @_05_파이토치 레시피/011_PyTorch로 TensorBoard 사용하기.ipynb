{
 "cells": [
  {
   "cell_type": "markdown",
   "metadata": {},
   "source": [
    "# PyTorch로 TensorBoard 사용하기\n",
    "\n",
    "TensorBoard는 머신러닝 실험을 위한 시각화 툴킷이다. TensorBoard를 사용하면\n",
    "* 측정 항목을 추적 및 시각화\n",
    "* 모델 그래프를 시각화\n",
    "* 히스토그램\n",
    "* 이미지를 출력\n",
    "* 기타 .."
   ]
  },
  {
   "cell_type": "code",
   "execution_count": 2,
   "metadata": {},
   "outputs": [],
   "source": [
    "import torch\n",
    "from torch.utils.tensorboard import SummaryWriter\n",
    "writer = SummaryWriter()"
   ]
  },
  {
   "cell_type": "markdown",
   "metadata": {},
   "source": [
    "## 스칼라 기록하기\n",
    "\n",
    "머신러닝에서는 손실 같은 주요 측정 항목과 학습 중 그것이 어떠헥 변화하는지 이해하는 것이 중요하다. 스칼라는 각 학습 단계(step)에서의 손실 값이나 각 에폭 이후의 정확도를 저장하는데 도움을 준다.\n",
    "\n",
    "스칼라 값을 기록하려면 `add_scalar(tag, scalar_value, global_step=None, walltime=None)` 메소드를 사용한다. 여기서 `tag`는 기록할 값의 이름이고, `scalar_value`는 기록할 값이다. `global_step`은 기록할 값의 x축 값이다. 이 값이 없으면 기본값으로 0이 사용된다. `walltime`은 기록된 시간을 나타낸다. 이 값이 없으면 현재 시간이 사용된다."
   ]
  },
  {
   "cell_type": "code",
   "execution_count": 3,
   "metadata": {},
   "outputs": [],
   "source": [
    "x = torch.arange(-5, 5, 0.1).view(-1, 1)\n",
    "y = -5 * x + 0.1 * torch.randn(x.size())\n",
    "\n",
    "model = torch.nn.Linear(1, 1)\n",
    "criterion = torch.nn.MSELoss()\n",
    "optimizer = torch.optim.SGD(model.parameters(), lr = 0.1)\n",
    "\n",
    "def train_model(iter):\n",
    "  for epoch in range(iter):\n",
    "    y1 = model(x)\n",
    "    loss = criterion(y1, y)\n",
    "    writer.add_scalar(\"Loss/train\", loss, epoch)\n",
    "    optimizer.zero_grad()\n",
    "    loss.backward()\n",
    "    optimizer.step()\n",
    "\n",
    "train_model(10)\n",
    "writer.flush()"
   ]
  },
  {
   "cell_type": "code",
   "execution_count": null,
   "metadata": {},
   "outputs": [],
   "source": []
  }
 ],
 "metadata": {
  "kernelspec": {
   "display_name": "pytorch-study",
   "language": "python",
   "name": "python3"
  },
  "language_info": {
   "codemirror_mode": {
    "name": "ipython",
    "version": 3
   },
   "file_extension": ".py",
   "mimetype": "text/x-python",
   "name": "python",
   "nbconvert_exporter": "python",
   "pygments_lexer": "ipython3",
   "version": "3.11.7"
  }
 },
 "nbformat": 4,
 "nbformat_minor": 2
}
