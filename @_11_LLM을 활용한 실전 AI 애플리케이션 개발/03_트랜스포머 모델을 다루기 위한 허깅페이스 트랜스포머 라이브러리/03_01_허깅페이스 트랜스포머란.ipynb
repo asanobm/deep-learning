{
 "cells": [
  {
   "cell_type": "markdown",
   "metadata": {},
   "source": [
    "## 3.1. 허깅페이스 트랜스포머란\n",
    "\n",
    "허깅페이스 트랜스포머는 다양한 트랜스포머 모델을 통일된 인터페이스로 제공하는 라이브러리입니다. 허깅페이스 트랜스포머 라이브러리는 다음과 같은 특징을 가지고 있습니다.\n",
    "\n",
    "- 다양한 트랜스포머 모델을 통일된 인터페이스로 제공합니다.\n",
    "- 트랜스포머 모델을 쉽게 불러오고 사용할 수 있습니다.\n",
    "- 트랜스포머 모델을 미세조정할 수 있습니다.\n",
    "- 트랜스포머 모델을 쉽게 저장하고 불러올 수 있습니다.\n",
    "- 트랜스포머 모델을 쉽게 공유할 수 있습니다.\n",
    "- 와우\n",
    "\n"
   ]
  },
  {
   "cell_type": "code",
   "execution_count": 8,
   "metadata": {},
   "outputs": [
    {
     "data": {
      "application/vnd.jupyter.widget-view+json": {
       "model_id": "2fa311e3494441de9857c8dbd21d9bd7",
       "version_major": 2,
       "version_minor": 0
      },
      "text/plain": [
       "config.json:   0%|          | 0.00/665 [00:00<?, ?B/s]"
      ]
     },
     "metadata": {},
     "output_type": "display_data"
    },
    {
     "data": {
      "application/vnd.jupyter.widget-view+json": {
       "model_id": "b12a0afa36234d739b18e1423d83abc8",
       "version_major": 2,
       "version_minor": 0
      },
      "text/plain": [
       "model.safetensors:   0%|          | 0.00/548M [00:00<?, ?B/s]"
      ]
     },
     "metadata": {},
     "output_type": "display_data"
    },
    {
     "data": {
      "application/vnd.jupyter.widget-view+json": {
       "model_id": "7807a06bd46244c09c9c2f73f31df447",
       "version_major": 2,
       "version_minor": 0
      },
      "text/plain": [
       "tokenizer_config.json:   0%|          | 0.00/26.0 [00:00<?, ?B/s]"
      ]
     },
     "metadata": {},
     "output_type": "display_data"
    },
    {
     "data": {
      "application/vnd.jupyter.widget-view+json": {
       "model_id": "0a040b364aae42e8af9c55775d2c36fc",
       "version_major": 2,
       "version_minor": 0
      },
      "text/plain": [
       "vocab.json:   0%|          | 0.00/1.04M [00:00<?, ?B/s]"
      ]
     },
     "metadata": {},
     "output_type": "display_data"
    },
    {
     "data": {
      "application/vnd.jupyter.widget-view+json": {
       "model_id": "ce5c058a53d74f3cbc5d4839dd9eb874",
       "version_major": 2,
       "version_minor": 0
      },
      "text/plain": [
       "merges.txt:   0%|          | 0.00/456k [00:00<?, ?B/s]"
      ]
     },
     "metadata": {},
     "output_type": "display_data"
    },
    {
     "data": {
      "application/vnd.jupyter.widget-view+json": {
       "model_id": "6e73f7e9ae144284967ff5b3e9e8b807",
       "version_major": 2,
       "version_minor": 0
      },
      "text/plain": [
       "tokenizer.json:   0%|          | 0.00/1.36M [00:00<?, ?B/s]"
      ]
     },
     "metadata": {},
     "output_type": "display_data"
    }
   ],
   "source": [
    "from transformers import AutoModel, AutoTokenizer\n",
    "\n",
    "text = \"What is Huggingface TRansformers?\"\n",
    "\n",
    "# BERT 모델 활용\n",
    "bert_base_uncased = \"bert-base-uncased\"\n",
    "bert_model = AutoModel.from_pretrained(bert_base_uncased) # 대소문자 구분 없이 학습된 BERT 모델\n",
    "bert_tokenizer = AutoTokenizer.from_pretrained(bert_base_uncased) # 대소문자 구분 없이 학습된 BERT 토크나이저\n",
    "encoded_input = bert_tokenizer(text, return_tensors='pt') # 입력 텍스트를 토큰화하고, PyTorch 텐서로 변환\n",
    "bert_output = bert_model(**encoded_input) # BERT 모델에 입력값을 넣어 출력값을 얻음\n",
    "\n",
    "# GPT-2 모델 활용\n",
    "\n",
    "gpt_model = AutoModel.from_pretrained(\"gpt2\") # GPT-2 모델\n",
    "gpt_tokenizer = AutoTokenizer.from_pretrained(\"gpt2\") # GPT-2 토크나이저\n",
    "encoded_input = gpt_tokenizer(text, return_tensors='pt') # 입력 텍스트를 토큰화하고, PyTorch 텐서로 변환\n",
    "gpt_output = gpt_model(**encoded_input) # GPT-2 모델에 입력값을 넣어 출력값을 얻음"
   ]
  },
  {
   "cell_type": "code",
   "execution_count": null,
   "metadata": {},
   "outputs": [],
   "source": []
  }
 ],
 "metadata": {
  "kernelspec": {
   "display_name": "ai",
   "language": "python",
   "name": "python3"
  },
  "language_info": {
   "codemirror_mode": {
    "name": "ipython",
    "version": 3
   },
   "file_extension": ".py",
   "mimetype": "text/x-python",
   "name": "python",
   "nbconvert_exporter": "python",
   "pygments_lexer": "ipython3",
   "version": "3.11.10"
  }
 },
 "nbformat": 4,
 "nbformat_minor": 2
}
