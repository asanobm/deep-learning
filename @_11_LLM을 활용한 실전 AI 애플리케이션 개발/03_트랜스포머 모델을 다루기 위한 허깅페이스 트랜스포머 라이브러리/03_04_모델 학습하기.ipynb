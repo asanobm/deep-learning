{
 "cells": [
  {
   "cell_type": "markdown",
   "metadata": {},
   "source": [
    "## 3.4. 모델 학습하기\n",
    "\n",
    "한국어 기사 제목을 바탕으로 기사의 카테고리를 분류하는 텍스트 분류 모델을 학습한다.\n",
    "\n",
    "- 데이터셋을 준비한다.\n",
    "- 모델을 준비한다.\n",
    "- 토크나이저를 준비한다.\n",
    "- 겁나게 학습한다.\n",
    "- 모델을 평가한다.\n",
    "- 마음이 상한다.\n",
    "- 지운다.\n",
    "- 안녕~"
   ]
  },
  {
   "cell_type": "markdown",
   "metadata": {},
   "source": [
    "### 3.4.1. 데이터셋 준비하기\n",
    "\n",
    "실습 데이터는 KLUE 데이터셋의 YNAT 서브셋을 활용한다. YNAT은 연합뉴스의 기사의 제목과 기사가 속한 카테고리 정보가 있다.\n",
    "\n",
    "데이터셋은 다음과 같이 구성되어 있다.\n",
    "\n",
    "```shell\n",
    "# Dataset\n",
    "DatasetDict({\n",
    "    train: Dataset({\n",
    "        features: ['guid', 'title', 'label', 'url', 'date'],\n",
    "        num_rows: 45678\n",
    "    })\n",
    "    validation: Dataset({\n",
    "        features: ['guid', 'title', 'label', 'url', 'date'],\n",
    "        num_rows: 9107\n",
    "    })\n",
    "})\n",
    "\n",
    "# label\n",
    "ClassLabel(names=['IT과학', '경제', '사회', '생활문화', '세계', '스포츠', '정치'], id=None)\n",
    "```\n",
    "\n",
    "- `guid`: 기사의 고유 식별자\n",
    "- `title`: 기사 제목\n",
    "- `label`: 기사의 카테고리\n",
    "- `url`: 기사의 URL\n",
    "- `date`: 기사의 작성일\n",
    "\n",
    "`train dataset`은 45678개의 기사, `validation dataset`은 9107개의 기사로 구성되어 있다.\n"
   ]
  },
  {
   "cell_type": "code",
   "execution_count": 1,
   "metadata": {},
   "outputs": [],
   "source": [
    "from datasets import load_dataset\n",
    "\n",
    "dataset = load_dataset(\"klue\", \"ynat\")"
   ]
  },
  {
   "cell_type": "code",
   "execution_count": 2,
   "metadata": {},
   "outputs": [
    {
     "data": {
      "text/plain": [
       "ClassLabel(names=['IT과학', '경제', '사회', '생활문화', '세계', '스포츠', '정치'], id=None)"
      ]
     },
     "execution_count": 2,
     "metadata": {},
     "output_type": "execute_result"
    }
   ],
   "source": [
    "dataset['train'].features['label']"
   ]
  },
  {
   "cell_type": "code",
   "execution_count": 3,
   "metadata": {},
   "outputs": [
    {
     "data": {
      "text/plain": [
       "device(type='cuda')"
      ]
     },
     "execution_count": 3,
     "metadata": {},
     "output_type": "execute_result"
    }
   ],
   "source": [
    "import torch\n",
    "\n",
    "device = torch.device('cuda') if torch.cuda.is_available() else torch.device('cpu')\n",
    "device"
   ]
  },
  {
   "cell_type": "markdown",
   "metadata": {},
   "source": [
    "### 3.4.2. 트레이너 API를 사용해 학습하기\n",
    "\n",
    "Hugging Face의 Trainer API를 사용해 모델을 학습한다."
   ]
  },
  {
   "cell_type": "code",
   "execution_count": 4,
   "metadata": {},
   "outputs": [
    {
     "name": "stderr",
     "output_type": "stream",
     "text": [
      "Some weights of BertForSequenceClassification were not initialized from the model checkpoint at klue/bert-base and are newly initialized: ['classifier.bias', 'classifier.weight']\n",
      "You should probably TRAIN this model on a down-stream task to be able to use it for predictions and inference.\n",
      "/home/asanobm/miniforge3/envs/ai/lib/python3.11/site-packages/transformers/training_args.py:1568: FutureWarning: `evaluation_strategy` is deprecated and will be removed in version 4.46 of 🤗 Transformers. Use `eval_strategy` instead\n",
      "  warnings.warn(\n",
      "/tmp/ipykernel_977791/3515697455.py:73: FutureWarning: `tokenizer` is deprecated and will be removed in version 5.0.0 for `Trainer.__init__`. Use `processing_class` instead.\n",
      "  trainer = Trainer(\n",
      "/home/asanobm/miniforge3/envs/ai/lib/python3.11/site-packages/torch/nn/parallel/_functions.py:71: UserWarning: Was asked to gather along dimension 0, but all input tensors were scalars; will instead unsqueeze and return a vector.\n",
      "  warnings.warn(\n"
     ]
    },
    {
     "data": {
      "text/html": [
       "\n",
       "    <div>\n",
       "      \n",
       "      <progress value='2570' max='2570' style='width:300px; height:20px; vertical-align: middle;'></progress>\n",
       "      [2570/2570 07:15, Epoch 1/1]\n",
       "    </div>\n",
       "    <table border=\"1\" class=\"dataframe\">\n",
       "  <thead>\n",
       " <tr style=\"text-align: left;\">\n",
       "      <th>Epoch</th>\n",
       "      <th>Training Loss</th>\n",
       "      <th>Validation Loss</th>\n",
       "      <th>Accuracy</th>\n",
       "    </tr>\n",
       "  </thead>\n",
       "  <tbody>\n",
       "    <tr>\n",
       "      <td>1</td>\n",
       "      <td>0.340800</td>\n",
       "      <td>0.328834</td>\n",
       "      <td>0.885946</td>\n",
       "    </tr>\n",
       "  </tbody>\n",
       "</table><p>"
      ],
      "text/plain": [
       "<IPython.core.display.HTML object>"
      ]
     },
     "metadata": {},
     "output_type": "display_data"
    },
    {
     "name": "stderr",
     "output_type": "stream",
     "text": [
      "/home/asanobm/miniforge3/envs/ai/lib/python3.11/site-packages/torch/nn/parallel/_functions.py:71: UserWarning: Was asked to gather along dimension 0, but all input tensors were scalars; will instead unsqueeze and return a vector.\n",
      "  warnings.warn(\n",
      "/home/asanobm/miniforge3/envs/ai/lib/python3.11/site-packages/torch/nn/parallel/_functions.py:71: UserWarning: Was asked to gather along dimension 0, but all input tensors were scalars; will instead unsqueeze and return a vector.\n",
      "  warnings.warn(\n",
      "/home/asanobm/miniforge3/envs/ai/lib/python3.11/site-packages/torch/nn/parallel/_functions.py:71: UserWarning: Was asked to gather along dimension 0, but all input tensors were scalars; will instead unsqueeze and return a vector.\n",
      "  warnings.warn(\n",
      "/home/asanobm/miniforge3/envs/ai/lib/python3.11/site-packages/torch/nn/parallel/_functions.py:71: UserWarning: Was asked to gather along dimension 0, but all input tensors were scalars; will instead unsqueeze and return a vector.\n",
      "  warnings.warn(\n",
      "/home/asanobm/miniforge3/envs/ai/lib/python3.11/site-packages/torch/nn/parallel/_functions.py:71: UserWarning: Was asked to gather along dimension 0, but all input tensors were scalars; will instead unsqueeze and return a vector.\n",
      "  warnings.warn(\n",
      "/home/asanobm/miniforge3/envs/ai/lib/python3.11/site-packages/torch/nn/parallel/_functions.py:71: UserWarning: Was asked to gather along dimension 0, but all input tensors were scalars; will instead unsqueeze and return a vector.\n",
      "  warnings.warn(\n"
     ]
    },
    {
     "data": {
      "text/plain": [
       "TrainOutput(global_step=2570, training_loss=0.4071110194759146, metrics={'train_runtime': 436.168, 'train_samples_per_second': 94.253, 'train_steps_per_second': 5.892, 'total_flos': 1.0816981070592e+16, 'train_loss': 0.4071110194759146, 'epoch': 1.0})"
      ]
     },
     "execution_count": 4,
     "metadata": {},
     "output_type": "execute_result"
    }
   ],
   "source": [
    "import torch\n",
    "import torch.nn as nn\n",
    "\n",
    "from datasets import load_dataset\n",
    "from transformers import Trainer, TrainingArguments, AutoModelForSequenceClassification, AutoTokenizer\n",
    "\n",
    "# KLUE-YNAT 데이터셋을 불러온다. \n",
    "dataset = load_dataset(\"klue\", \"ynat\")\n",
    "\n",
    "\n",
    "device = torch.device('cuda') if torch.cuda.is_available() else torch.device('cpu')\n",
    "\n",
    "# Split the dataset into train, validation, and test sets\n",
    "train_test_split = dataset[\"train\"].train_test_split(test_size=0.1, shuffle=True, seed=42)\n",
    "train_dataset = train_test_split[\"train\"]\n",
    "eval_dataset = train_test_split[\"test\"]\n",
    "test_dataset = dataset[\"validation\"].train_test_split(test_size=1000, shuffle=True, seed=42)[\"test\"]\n",
    "\n",
    "# 사용하지 않는 컬럼 제거\n",
    "train_dataset = train_dataset.remove_columns(['guid', 'url', 'date'])\n",
    "eval_dataset = eval_dataset.remove_columns(['guid', 'url', 'date'])\n",
    "test_dataset = test_dataset.remove_columns(['guid', 'url', 'date'])\n",
    "\n",
    "\n",
    "# 토크나이저와 모델 설정\n",
    "tokenizer = AutoTokenizer.from_pretrained(\"klue/bert-base\")\n",
    "model = AutoModelForSequenceClassification.from_pretrained(\n",
    "    \"klue/bert-base\", # KLUE-BERT 모델 사용\n",
    "    num_labels=dataset['train'].features['label'].num_classes # 클래스 개수를 설정한다. 실제 데이터셋의 클래스 개수와 같아야 한다.\n",
    ")\n",
    "\n",
    "# tokenize_function 은 데이터셋의 example을 토큰으로 변환한다. 변환하고자하는 필드는 title이다. \n",
    "def tokenize_function(examples):\n",
    "    \"\"\"\n",
    "    주어진 예제의 'title' 필드를 토크나이저를 사용하여 토큰화합니다.\n",
    "    Args:\n",
    "        examples (dict): 'title' 필드를 포함하는 예제들의 딕셔너리.\n",
    "    Returns:\n",
    "        dict: 패딩과 잘림이 적용된 토큰화된 결과를 포함하는 딕셔너리.\n",
    "    \"\"\"\n",
    "    return tokenizer(examples['title'], padding=\"max_length\", truncation=True)\n",
    "\n",
    "# tokenize_function을 사용하여 데이터셋을 토큰화한다.\n",
    "train_dataset = train_dataset.map(tokenize_function, batched=True)\n",
    "eval_dataset = eval_dataset.map(tokenize_function, batched=True)\n",
    "test_dataset = test_dataset.map(tokenize_function, batched=True)\n",
    "\n",
    "# TrainingArguments를 사용하여 학습 설정을 정의한다.\n",
    "training_args = TrainingArguments(\n",
    "    output_dir='./runs',                # 모델 체크포인트 및 예측 결과를 저장할 디렉토리\n",
    "    num_train_epochs=1,                 # 학습할 에폭 수\n",
    "    per_device_train_batch_size=8,      # 한 디바이스당 학습 배치 크기\n",
    "    per_device_eval_batch_size=8,       # 한 디바이스당 평가 배치 크기\n",
    "    evaluation_strategy=\"epoch\",        # 평가 전략\n",
    "    learning_rate=5e-5,                 # 학습률\n",
    ")\n",
    "\n",
    "def compute_metrics(pred):\n",
    "    \"\"\"\n",
    "    주어진 예측 결과를 바탕으로 정확도를 계산합니다.\n",
    "    매개변수:\n",
    "    pred (transformers.EvalPrediction): 예측 결과를 포함하는 객체로, \n",
    "        label_ids와 predictions 속성을 가집니다.\n",
    "    반환값:\n",
    "    dict: 정확도를 나타내는 딕셔너리로, \"accuracy\" 키와 정확도 값을 가집니다.\n",
    "    \"\"\"\n",
    "\n",
    "    labels = pred.label_ids\n",
    "    preds = pred.predictions.argmax(-1)\n",
    "    return {\"accuracy\": (preds == labels).mean()}\n",
    "\n",
    "# Trainer 객체를 생성한다.\n",
    "trainer = Trainer(\n",
    "    model=model,                    # 학습할 모델\n",
    "    args=training_args,             # 학습 설정\n",
    "    train_dataset=train_dataset,    # 학습 데이터셋\n",
    "    eval_dataset=eval_dataset,      # 평가 데이터셋\n",
    "    tokenizer=tokenizer,            # 토크나이저\n",
    "    compute_metrics=compute_metrics # 평가 지표를 계산하는 함수\n",
    ")\n",
    "\n",
    "# # 모델을 DataParallel로 감싸기 : 여러 GPU를 사용하여 학습할 때 사용 해야 한다.\n",
    "# if torch.cuda.device_count() > 1:\n",
    "#     print(\"Let's use\", torch.cuda.device_count(), \"GPUs!\")\n",
    "#     model = nn.DataParallel(model)\n",
    "\n",
    "model.to(device)\n",
    "\n",
    "# 모델을 학습한다.\n",
    "trainer.train()"
   ]
  },
  {
   "cell_type": "code",
   "execution_count": 5,
   "metadata": {},
   "outputs": [
    {
     "data": {
      "text/plain": [
       "BertConfig {\n",
       "  \"_name_or_path\": \"klue/bert-base\",\n",
       "  \"architectures\": [\n",
       "    \"BertForSequenceClassification\"\n",
       "  ],\n",
       "  \"attention_probs_dropout_prob\": 0.1,\n",
       "  \"classifier_dropout\": null,\n",
       "  \"hidden_act\": \"gelu\",\n",
       "  \"hidden_dropout_prob\": 0.1,\n",
       "  \"hidden_size\": 768,\n",
       "  \"id2label\": {\n",
       "    \"0\": \"IT\\uacfc\\ud559\",\n",
       "    \"1\": \"\\uacbd\\uc81c\",\n",
       "    \"2\": \"\\uc0ac\\ud68c\",\n",
       "    \"3\": \"\\uc0dd\\ud65c\\ubb38\\ud654\",\n",
       "    \"4\": \"\\uc138\\uacc4\",\n",
       "    \"5\": \"\\uc2a4\\ud3ec\\uce20\",\n",
       "    \"6\": \"\\uc815\\uce58\"\n",
       "  },\n",
       "  \"initializer_range\": 0.02,\n",
       "  \"intermediate_size\": 3072,\n",
       "  \"label2id\": {\n",
       "    \"IT\\uacfc\\ud559\": 0,\n",
       "    \"\\uacbd\\uc81c\": 1,\n",
       "    \"\\uc0ac\\ud68c\": 2,\n",
       "    \"\\uc0dd\\ud65c\\ubb38\\ud654\": 3,\n",
       "    \"\\uc138\\uacc4\": 4,\n",
       "    \"\\uc2a4\\ud3ec\\uce20\": 5,\n",
       "    \"\\uc815\\uce58\": 6\n",
       "  },\n",
       "  \"layer_norm_eps\": 1e-12,\n",
       "  \"max_position_embeddings\": 512,\n",
       "  \"model_type\": \"bert\",\n",
       "  \"num_attention_heads\": 12,\n",
       "  \"num_hidden_layers\": 12,\n",
       "  \"pad_token_id\": 0,\n",
       "  \"position_embedding_type\": \"absolute\",\n",
       "  \"problem_type\": \"single_label_classification\",\n",
       "  \"torch_dtype\": \"float32\",\n",
       "  \"transformers_version\": \"4.46.3\",\n",
       "  \"type_vocab_size\": 2,\n",
       "  \"use_cache\": true,\n",
       "  \"vocab_size\": 32000\n",
       "}"
      ]
     },
     "execution_count": 5,
     "metadata": {},
     "output_type": "execute_result"
    }
   ],
   "source": [
    "import json\n",
    "import os\n",
    "\n",
    "id2label = {i: str(label) for i, label in enumerate(dataset['train'].features['label'].names)}\n",
    "label2id = {label: i for i, label in enumerate(dataset['train'].features['label'].names)}\n",
    "model.config.id2label = id2label\n",
    "model.config.label2id = label2id\n",
    "\n",
    "model.config\n"
   ]
  },
  {
   "cell_type": "code",
   "execution_count": 6,
   "metadata": {},
   "outputs": [
    {
     "data": {
      "application/vnd.jupyter.widget-view+json": {
       "model_id": "91178a8750704b8c8ae681877dfdccdd",
       "version_major": 2,
       "version_minor": 0
      },
      "text/plain": [
       "model.safetensors:   0%|          | 0.00/443M [00:00<?, ?B/s]"
      ]
     },
     "metadata": {},
     "output_type": "display_data"
    },
    {
     "name": "stderr",
     "output_type": "stream",
     "text": [
      "No files have been modified since last commit. Skipping to prevent empty commit.\n"
     ]
    },
    {
     "data": {
      "text/plain": [
       "CommitInfo(commit_url='https://huggingface.co/asanobm/roberta-base-klue-ynat-classification-trainer/commit/8824f62febf74986ea15f722f95ab6d439555cb4', commit_message='Upload tokenizer', commit_description='', oid='8824f62febf74986ea15f722f95ab6d439555cb4', pr_url=None, repo_url=RepoUrl('https://huggingface.co/asanobm/roberta-base-klue-ynat-classification-trainer', endpoint='https://huggingface.co', repo_type='model', repo_id='asanobm/roberta-base-klue-ynat-classification-trainer'), pr_revision=None, pr_num=None)"
      ]
     },
     "execution_count": 6,
     "metadata": {},
     "output_type": "execute_result"
    }
   ],
   "source": [
    "# 학습한 모델 허깅페이스에 업로드하기\n",
    "model_name = \"asanobm/roberta-base-klue-ynat-classification-trainer\"\n",
    "model.push_to_hub(model_name, private=True)\n",
    "tokenizer.push_to_hub(model_name, private=True)"
   ]
  },
  {
   "cell_type": "markdown",
   "metadata": {},
   "source": [
    "### 3.4.3. 트레이너 API를 사용하지 않고 학습하기\n",
    "\n",
    "Trainer를 사용하면 간편하게 사용할 수 있지만 내부 동작을 이해하기 위해 Trainer를 사용하지 않고 학습하는 방법을 알아본다."
   ]
  },
  {
   "cell_type": "code",
   "execution_count": 7,
   "metadata": {},
   "outputs": [
    {
     "name": "stderr",
     "output_type": "stream",
     "text": [
      "Some weights of BertForSequenceClassification were not initialized from the model checkpoint at klue/bert-base and are newly initialized: ['classifier.bias', 'classifier.weight']\n",
      "You should probably TRAIN this model on a down-stream task to be able to use it for predictions and inference.\n"
     ]
    },
    {
     "name": "stdout",
     "output_type": "stream",
     "text": [
      "Let's use 2 GPUs!\n",
      "Epoch 1/1\n"
     ]
    },
    {
     "name": "stderr",
     "output_type": "stream",
     "text": [
      "/home/asanobm/miniforge3/envs/ai/lib/python3.11/site-packages/transformers/optimization.py:591: FutureWarning: This implementation of AdamW is deprecated and will be removed in a future version. Use the PyTorch implementation torch.optim.AdamW instead, or set `no_deprecation_warning=True` to disable this warning\n",
      "  warnings.warn(\n"
     ]
    },
    {
     "data": {
      "application/vnd.jupyter.widget-view+json": {
       "model_id": "4cc70408489348148154e286a1a6a6cd",
       "version_major": 2,
       "version_minor": 0
      },
      "text/plain": [
       "  0%|          | 0/5139 [00:00<?, ?it/s]"
      ]
     },
     "metadata": {},
     "output_type": "display_data"
    },
    {
     "name": "stdout",
     "output_type": "stream",
     "text": [
      "Train loss: 0.4410818768641635\n"
     ]
    },
    {
     "data": {
      "application/vnd.jupyter.widget-view+json": {
       "model_id": "eed7e101ce1c494ab3f478667324032c",
       "version_major": 2,
       "version_minor": 0
      },
      "text/plain": [
       "  0%|          | 0/571 [00:00<?, ?it/s]"
      ]
     },
     "metadata": {},
     "output_type": "display_data"
    },
    {
     "name": "stdout",
     "output_type": "stream",
     "text": [
      "Validation loss: 0.40989416489955005, Validation accuracy: 0.861646234676007\n"
     ]
    },
    {
     "data": {
      "application/vnd.jupyter.widget-view+json": {
       "model_id": "07c9f430bb2f4afda55d8eac034be97e",
       "version_major": 2,
       "version_minor": 0
      },
      "text/plain": [
       "  0%|          | 0/125 [00:00<?, ?it/s]"
      ]
     },
     "metadata": {},
     "output_type": "display_data"
    },
    {
     "name": "stdout",
     "output_type": "stream",
     "text": [
      "Test accuracy: 0.824\n"
     ]
    }
   ],
   "source": [
    "import torch\n",
    "import torch.nn as nn\n",
    "import numpy as np\n",
    "from tqdm.auto import tqdm\n",
    "from torch.utils.data import DataLoader\n",
    "from transformers import AdamW, AutoTokenizer, AutoModelForSequenceClassification\n",
    "from datasets import load_dataset\n",
    "\n",
    "def tokenize_function(examples):\n",
    "    return tokenizer(examples['title'], padding=\"max_length\", truncation=True)\n",
    "\n",
    "# KLUE-YNAT 데이터셋을 불러온다.\n",
    "dataset = load_dataset(\"klue\", \"ynat\")\n",
    "\n",
    "# tokenizer와 model을 설정한다.\n",
    "tokenizer = AutoTokenizer.from_pretrained(\"klue/bert-base\")\n",
    "model = AutoModelForSequenceClassification.from_pretrained(\"klue/bert-base\",num_labels=dataset['train'].features['label'].num_classes)\n",
    "\n",
    "# 사용할 디바이스를 설정한다.\n",
    "device = torch.device('cuda') if torch.cuda.is_available() else torch.device('cpu')\n",
    "\n",
    "# 모델을 DataParallel로 감싸기 : 여러 GPU를 사용하여 학습할 때 사용 해야 한다.\n",
    "if torch.cuda.device_count() > 1:\n",
    "    print(\"Let's use\", torch.cuda.device_count(), \"GPUs!\")\n",
    "    model = nn.DataParallel(model)\n",
    "model.to(device)\n",
    "\n",
    "def make_data_loader(dataset, batch_size, shuffle=True):\n",
    "    dataset = dataset.map(tokenize_function, batched=True).with_format(\"torch\")\n",
    "    dataset = dataset.rename_column(\"label\", \"labels\")\n",
    "    dataset = dataset.remove_columns(['title'])\n",
    "    return DataLoader(dataset, batch_size=batch_size, shuffle=shuffle)\n",
    "\n",
    "# Split the dataset into train, validation, and test sets\n",
    "train_test_split = dataset[\"train\"].train_test_split(test_size=0.1, shuffle=True, seed=42)\n",
    "train_dataset = train_test_split[\"train\"]\n",
    "eval_dataset = train_test_split[\"test\"]\n",
    "test_dataset = dataset[\"validation\"].train_test_split(test_size=1000, shuffle=True, seed=42)[\"test\"]\n",
    "\n",
    "# 사용하지 않는 컬럼 제거\n",
    "train_dataset = train_dataset.remove_columns(['guid', 'url', 'date'])\n",
    "eval_dataset = eval_dataset.remove_columns(['guid', 'url', 'date'])\n",
    "test_dataset = test_dataset.remove_columns(['guid', 'url', 'date'])\n",
    "\n",
    "# 데이터로더를 생성한다.\n",
    "train_loader = make_data_loader(train_dataset, batch_size=8, shuffle=True)\n",
    "eval_loader = make_data_loader(eval_dataset, batch_size=8, shuffle=False)\n",
    "test_loader = make_data_loader(test_dataset, batch_size=8, shuffle=False)\n",
    "\n",
    "# 학습을 위한 함수를 정의한다.\n",
    "def train_epoch(model, data_loader, optimizer):\n",
    "    # 모델을 학습 모드로 설정한다.\n",
    "    model.train()\n",
    "    # 전체 손실을 저장할 변수를 초기화한다.\n",
    "    total_loss = 0\n",
    "    \n",
    "    # 데이터로더에서 배치를 순회하며 학습한다.\n",
    "    for batch in tqdm(data_loader):\n",
    "        # optimizer의 gradient를 초기화한다.\n",
    "        optimizer.zero_grad()\n",
    "        # input_ids를 GPU로 옮긴다.\n",
    "        input_ids = batch['input_ids'].to(device)\n",
    "        # attention_mask를 GPU로 옮긴다.\n",
    "        attention_mask = batch['attention_mask'].to(device)\n",
    "        # labels를 GPU로 옮긴다.\n",
    "        labels = batch['labels'].to(device)\n",
    "        # 모델에 input_ids, attention_mask, labels를 전달하여 출력을 계산한다.\n",
    "        outputs = model(input_ids, attention_mask=attention_mask, labels=labels)\n",
    "        # 손실을 계산한다.\n",
    "        loss = outputs.loss\n",
    "        # 만약 손실이 scalar가 아니라면, 평균을 계산한다.\n",
    "        if loss.dim() > 0:\n",
    "            loss = loss.mean()\n",
    "        # 손실을 역전파하여 gradient를 계산한다.\n",
    "        loss.backward()\n",
    "        # optimizer를 사용하여 모델 파라미터를 업데이트한다.\n",
    "        optimizer.step()\n",
    "        # 손실을 기록한다.\n",
    "        total_loss += loss.item()\n",
    "    avg_loss = total_loss / len(data_loader)\n",
    "    return avg_loss\n",
    "\n",
    "# 평가를 위한 함수를 정의한다.\n",
    "def evaluate(model, data_loader):\n",
    "    # 모델을 평가 모드로 설정한다.\n",
    "    model.eval()\n",
    "    # 전체 손실을 저장할 변수를 초기화한다.\n",
    "    total_loss = 0\n",
    "    # 정확도를 저장할 변수를 초기화한다.\n",
    "    predictions = []\n",
    "    # 정답을 저장할 변수를 초기화한다.\n",
    "    true_labels = []\n",
    "\n",
    "    # gradient를 계산하지 않도록 설정한다.\n",
    "    with torch.no_grad():\n",
    "        for batch in tqdm(data_loader):\n",
    "            # input_ids를 GPU로 옮긴다.\n",
    "            input_ids = batch['input_ids'].to(device)\n",
    "            # attention_mask를 GPU로 옮긴다.\n",
    "            attention_mask = batch['attention_mask'].to(device)\n",
    "            # labels를 GPU로 옮긴다.\n",
    "            labels = batch['labels'].to(device)\n",
    "            # 모델에 input_ids, attention_mask를 전달하여 출력을 계산한다.\n",
    "            outputs = model(input_ids, attention_mask=attention_mask, labels=labels)\n",
    "            # 로짓을 계산한다.\n",
    "            logits = outputs.logits\n",
    "            # 손실을 계산한다.\n",
    "            loss = outputs.loss\n",
    "            # 만약 손실이 scalar가 아니라면, 평균을 계산한다.\n",
    "            if loss.dim() > 0:\n",
    "                loss = loss.mean()\n",
    "            # 손실을 기록한다.\n",
    "            total_loss += loss.item()\n",
    "            # 텐서 logits의 각 행에서 최댓값의 인덱스를 찾고, 그 결과를 preds에 저장.\n",
    "            preds = torch.argmax(logits, dim=-1)\n",
    "            # predictions에 preds 결과를 cpu로 옮겨서 저장.\n",
    "            predictions.extend(preds.cpu().numpy())\n",
    "            # true_labels에 labels 결과를 cpu로 옮겨서 저장.\n",
    "            true_labels.extend(labels.cpu().numpy())\n",
    "    \n",
    "    avg_loss = total_loss / len(data_loader)\n",
    "    accuracy = np.mean(np.array(predictions) == np.array(true_labels))\n",
    "    return avg_loss, accuracy\n",
    "\n",
    "num_epochs = 1\n",
    "optimizer = AdamW(model.parameters(), lr=5e-5)\n",
    "\n",
    "for epoch in range(num_epochs):\n",
    "    print(f\"Epoch {epoch +1}/{num_epochs}\")\n",
    "    train_loss = train_epoch(model, train_loader, optimizer)\n",
    "    print(f\"Train loss: {train_loss}\")\n",
    "    valid_loss, valid_acc = evaluate(model, eval_loader)\n",
    "    print(f\"Validation loss: {valid_loss}, Validation accuracy: {valid_acc}\")\n",
    "    _, test_acc = evaluate(model, test_loader)\n",
    "    print(f\"Test accuracy: {test_acc}\")"
   ]
  },
  {
   "cell_type": "code",
   "execution_count": 8,
   "metadata": {},
   "outputs": [
    {
     "data": {
      "application/vnd.jupyter.widget-view+json": {
       "model_id": "d8e4de6757a64a7bafcbbeb0316fd072",
       "version_major": 2,
       "version_minor": 0
      },
      "text/plain": [
       "model.safetensors:   0%|          | 0.00/443M [00:00<?, ?B/s]"
      ]
     },
     "metadata": {},
     "output_type": "display_data"
    },
    {
     "name": "stderr",
     "output_type": "stream",
     "text": [
      "No files have been modified since last commit. Skipping to prevent empty commit.\n"
     ]
    },
    {
     "data": {
      "text/plain": [
       "CommitInfo(commit_url='https://huggingface.co/asanobm/roberta-base-klue-ynat-classification-without-trainer/commit/727ceffe178153d0deed254c4aaa258339838186', commit_message='Upload tokenizer', commit_description='', oid='727ceffe178153d0deed254c4aaa258339838186', pr_url=None, repo_url=RepoUrl('https://huggingface.co/asanobm/roberta-base-klue-ynat-classification-without-trainer', endpoint='https://huggingface.co', repo_type='model', repo_id='asanobm/roberta-base-klue-ynat-classification-without-trainer'), pr_revision=None, pr_num=None)"
      ]
     },
     "execution_count": 8,
     "metadata": {},
     "output_type": "execute_result"
    }
   ],
   "source": [
    "# 학습한 모델 허깅페이스에 업로드하기\n",
    "model_name = \"asanobm/roberta-base-klue-ynat-classification-without-trainer\"\n",
    "model.module.config.id2label = {i: str(label) for i, label in enumerate(dataset['train'].features['label'].names)}\n",
    "model.module.config.label2id = {label: i for i, label in enumerate(dataset['train'].features['label'].names)}\n",
    "model.module.push_to_hub(model_name, private=True)\n",
    "tokenizer.push_to_hub(model_name, private=True)"
   ]
  }
 ],
 "metadata": {
  "kernelspec": {
   "display_name": "ai",
   "language": "python",
   "name": "python3"
  },
  "language_info": {
   "codemirror_mode": {
    "name": "ipython",
    "version": 3
   },
   "file_extension": ".py",
   "mimetype": "text/x-python",
   "name": "python",
   "nbconvert_exporter": "python",
   "pygments_lexer": "ipython3",
   "version": "3.11.10"
  }
 },
 "nbformat": 4,
 "nbformat_minor": 2
}
