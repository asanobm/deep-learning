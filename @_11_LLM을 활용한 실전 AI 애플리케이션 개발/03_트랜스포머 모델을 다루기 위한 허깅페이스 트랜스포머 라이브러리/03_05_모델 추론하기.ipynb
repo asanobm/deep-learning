{
 "cells": [
  {
   "cell_type": "markdown",
   "metadata": {},
   "source": [
    "## 3.5. 모델 추론하기\n",
    "\n",
    "- 파이프라인을 활용한 추론\n",
    "- 직접 추론"
   ]
  },
  {
   "cell_type": "code",
   "execution_count": 1,
   "metadata": {},
   "outputs": [
    {
     "name": "stderr",
     "output_type": "stream",
     "text": [
      "Hardware accelerator e.g. GPU is available in the environment, but no `device` argument is passed to the `Pipeline` object. Model will be on CPU.\n"
     ]
    },
    {
     "data": {
      "text/plain": [
       "[{'label': '생활문화', 'score': 0.6612887978553772},\n",
       " {'label': '생활문화', 'score': 0.9924976229667664},\n",
       " {'label': '사회', 'score': 0.554459810256958},\n",
       " {'label': '사회', 'score': 0.7210090756416321},\n",
       " {'label': '생활문화', 'score': 0.9957513809204102}]"
      ]
     },
     "execution_count": 1,
     "metadata": {},
     "output_type": "execute_result"
    }
   ],
   "source": [
    "from transformers import pipeline\n",
    "from datasets import load_dataset\n",
    "from huggingface_hub import notebook_login\n",
    "\n",
    "model_name = \"asanobm/roberta-base-klue-ynat-classification-trainer\"\n",
    "model_pipeline = pipeline('text-classification', model=model_name)\n",
    "dataset = load_dataset(\"klue\", \"ynat\")\n",
    "model_pipeline(dataset['train']['title'][:5])\n"
   ]
  },
  {
   "cell_type": "code",
   "execution_count": 3,
   "metadata": {},
   "outputs": [
    {
     "data": {
      "text/plain": [
       "[{'label': '생활문화', 'score': 0.6612889766693115},\n",
       " {'label': '생활문화', 'score': 0.9924976229667664},\n",
       " {'label': '사회', 'score': 0.5544599890708923},\n",
       " {'label': '사회', 'score': 0.7210090756416321},\n",
       " {'label': '생활문화', 'score': 0.9957513809204102}]"
      ]
     },
     "execution_count": 3,
     "metadata": {},
     "output_type": "execute_result"
    }
   ],
   "source": [
    "# 직접 추론하기\n",
    "\n",
    "import torch\n",
    "from torch.nn.functional import softmax\n",
    "from transformers import AutoModelForSequenceClassification, AutoTokenizer\n",
    "\n",
    "class YNATPipeline:\n",
    "    def __init__(self, model_name):\n",
    "        self.model = AutoModelForSequenceClassification.from_pretrained(model_name)\n",
    "        self.tokenizer = AutoTokenizer.from_pretrained(model_name)\n",
    "        self.model.eval()\n",
    "\n",
    "    def __call__(self, text):\n",
    "        tokenized = self.tokenizer( text,\n",
    "                                    return_tensors=\"pt\",\n",
    "                                    padding=True,\n",
    "                                    truncation=True)\n",
    "        \n",
    "        with torch.no_grad():\n",
    "            outputs = self.model(**tokenized)\n",
    "            logits = outputs.logits\n",
    "\n",
    "        probabilities = softmax(logits, dim=-1)\n",
    "        scores, labels = torch.max(probabilities, dim=-1)\n",
    "        labels_str = [self.model.config.id2label[label_index] for label_index in labels.tolist()]\n",
    "        return [{\"label\": label, \"score\": score} for label, score in zip(labels_str, scores.tolist())]\n",
    "\n",
    "ynat_pipeline = YNATPipeline(model_name)\n",
    "ynat_pipeline(dataset['train']['title'][:5])"
   ]
  },
  {
   "cell_type": "code",
   "execution_count": null,
   "metadata": {},
   "outputs": [],
   "source": []
  }
 ],
 "metadata": {
  "kernelspec": {
   "display_name": "ai",
   "language": "python",
   "name": "python3"
  },
  "language_info": {
   "codemirror_mode": {
    "name": "ipython",
    "version": 3
   },
   "file_extension": ".py",
   "mimetype": "text/x-python",
   "name": "python",
   "nbconvert_exporter": "python",
   "pygments_lexer": "ipython3",
   "version": "3.11.10"
  }
 },
 "nbformat": 4,
 "nbformat_minor": 2
}
