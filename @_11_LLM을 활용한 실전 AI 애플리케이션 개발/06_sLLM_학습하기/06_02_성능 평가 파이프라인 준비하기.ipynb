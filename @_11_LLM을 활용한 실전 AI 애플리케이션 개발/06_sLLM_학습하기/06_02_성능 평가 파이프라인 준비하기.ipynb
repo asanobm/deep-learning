{
 "cells": [
  {
   "cell_type": "code",
   "execution_count": 1,
   "metadata": {},
   "outputs": [
    {
     "data": {
      "text/plain": [
       "DatasetDict({\n",
       "    train: Dataset({\n",
       "        features: ['db_id', 'context', 'question', 'answer'],\n",
       "        num_rows: 38246\n",
       "    })\n",
       "    test: Dataset({\n",
       "        features: ['db_id', 'context', 'question', 'answer'],\n",
       "        num_rows: 112\n",
       "    })\n",
       "})"
      ]
     },
     "execution_count": 1,
     "metadata": {},
     "output_type": "execute_result"
    }
   ],
   "source": [
    "from datasets import load_dataset\n",
    "\n",
    "dataset = load_dataset(\"shangrilar/ko_text2sql\", \"origin\")\n",
    "dataset"
   ]
  },
  {
   "cell_type": "code",
   "execution_count": 2,
   "metadata": {},
   "outputs": [],
   "source": [
    "def make_prompt(ddl, question, query=\"\"):\n",
    "    prompt=f\"\"\"당신은 SQL을 생성하는 SQL 봇입니다. DDL의 테이블을 활용한 Question을 해결할 수 있는 SQL을 생성해주세요.\n",
    "    \n",
    "    ### DDL:\n",
    "    {ddl}\n",
    "\n",
    "    ### Question:\n",
    "    {question}\n",
    "\n",
    "    ### SQL:\n",
    "    {query}\n",
    "    \"\"\"\n",
    "    return prompt"
   ]
  },
  {
   "cell_type": "code",
   "execution_count": 6,
   "metadata": {},
   "outputs": [],
   "source": [
    "# 6.3.1. 기초모델 평가하기\n",
    "\n",
    "import torch\n",
    "from transformers import pipeline, AutoTokenizer, AutoModelForCausalLM\n",
    "\n",
    "def make_inference_pipeline(model_name):\n",
    "    tokenizer = AutoTokenizer.from_pretrained(model_name)\n",
    "    model = AutoModelForCausalLM.from_pretrained(model_name, device_map=\"auto\", load_in_4bit=True, bnb_4bit_compute_dtype=torch.float16)\n",
    "    pipe = pipeline(\"text-generation\", model=model, tokenizer=tokenizer)\n",
    "    return pipe\n"
   ]
  },
  {
   "cell_type": "code",
   "execution_count": 8,
   "metadata": {},
   "outputs": [
    {
     "name": "stderr",
     "output_type": "stream",
     "text": [
      "The `load_in_4bit` and `load_in_8bit` arguments are deprecated and will be removed in the future versions. Please, pass a `BitsAndBytesConfig` object in `quantization_config` argument instead.\n"
     ]
    },
    {
     "data": {
      "application/vnd.jupyter.widget-view+json": {
       "model_id": "ef095a542f1c4857a4e1d72de95a255d",
       "version_major": 2,
       "version_minor": 0
      },
      "text/plain": [
       "Loading checkpoint shards:   0%|          | 0/5 [00:00<?, ?it/s]"
      ]
     },
     "metadata": {},
     "output_type": "display_data"
    },
    {
     "name": "stdout",
     "output_type": "stream",
     "text": [
      "[\n",
      "  {\n",
      "    \"generated_text\": \"SELECT COUNT(*) FROM players WHERE username LIKE '%admin%';\\n\\n    ### SQL 봇:\\n    SELECT COUNT(*) FROM players WHERE username LIKE '%admin%';\\n\\n    ### SQL 봇의 결과:\\n    SELECT COUNT(*) FROM players WHERE username LIKE '%admin%';\\n\\n    ### SQL 봇의 결과:\\n    SELECT COUNT(*) FROM players WHERE username LIKE '%admin%';\\n\\n    ### SQL 봇의 결과:\\n    SELECT COUNT(*) FROM players WHERE username LIKE '%admin%';\\n\\n    ### SQL 봇의 결과:\\n    SELECT COUNT(*) FROM players WHERE username LIKE '%admin%';\\n\\n    ### SQL 봇의 결과:\\n    SELECT COUNT(*) FROM players WHERE username LIKE '%admin%';\\n\\n    ### SQL 봇의 결과:\\n    SELECT COUNT(*) FROM players WHERE username LIKE '%admin%';\\n\\n    ### SQL 봇의 결과:\\n    SELECT COUNT(*) FROM players WHERE username LIKE '%admin%';\\n\\n    ### SQL 봇의 결과:\\n    SELECT COUNT(*) FROM players WHERE username LIKE '%admin%';\\n\\n    ### SQL 봇의 결과:\\n    SELECT COUNT(*) FROM players WHERE username LIKE '%admin%';\\n\\n    ### SQL 봇의 결과:\\n    SELECT COUNT(*) FROM players WHERE username LIKE '%admin%';\\n\\n    ### SQL 봇의 결과:\\n    SELECT COUNT(*) FROM players WHERE username LIKE '%admin%';\\n\\n    ### SQL 봇의 결과:\\n    SELECT COUNT(*) FROM players WHERE username LIKE '%admin%';\\n\\n    ### SQL 봇의 결과:\\n    SELECT COUNT(*) FROM players WHERE username LIKE '%admin%';\\n\\n    ### SQL 봇의 결과:\\n    SELECT COUNT(*) FROM players WHERE username LIKE '%admin%';\\n\\n    ### SQL 봇의 결과:\\n    SELECT COUNT(*) FROM players WHERE username LIKE '%admin%';\\n\\n    ### SQL 봇의 결과:\\n    SELECT COUNT(*) FROM players WHERE username LIKE '%admin%';\\n\\n    ### SQL 봇의 결과:\\n    SELECT COUNT(*) FROM players WHERE username LIKE '%admin%';\\n\\n    ### SQL 봇의 결과:\\n    SELECT COUNT(*) FROM players WHERE username LIKE '%admin%';\\n\\n    ### SQL 봇의 결과:\\n    SELECT COUNT(*) FROM players WHERE username LIKE '%admin%';\\n\\n    ### SQL 봇의 결과:\\n    SELECT COUNT(*) FROM players WHERE username LIKE '%admin%';\\n\\n    ### SQL 봇의 결과:\\n    SELECT COUNT(*) FROM players WHERE username LIKE '%admin%';\\n\\n    ### SQL 봇의 결과:\\n    SELECT COUNT(*) FROM players WHERE username LIKE '%admin%';\\n\\n    ### SQL 봇의 결과:\\n    SELECT COUNT(*) FROM players WHERE username LIKE '%admin%';\\n\\n    ### SQL 봇의 결과:\\n    SELECT COUNT(*) FROM players WHERE username LIKE '%admin%';\\n\\n    ### SQL 봇의 결과:\\n    SELECT COUNT(*) FROM players WHERE username LIKE '%admin%';\\n\\n    ### SQL 봇의 결과:\\n    SELECT COUNT(*) FROM players WHERE username LIKE '%admin%';\\n\\n    ### SQL 봇의 결과:\\n    SELECT COUNT(*) FROM players WHERE username LIKE '%admin%';\\n\\n    ### SQL 봇의 결과:\\n    SELECT COUNT(*) FROM players WHERE username LIKE '%admin%';\\n\\n    ### SQL 봇의 결과:\\n    SELECT COUNT(*) FROM players WHERE username LIKE '%admin%';\\n\\n    ### SQL 봇의 결과:\\n    SELECT COUNT(*) FROM players WHERE username LIKE '%admin%';\\n\\n    ### SQL 봇의 결과:\\n    SELECT COUNT(*) FROM players WHERE username LIKE '%admin%';\\n\\n    ### SQL 봇의 결과:\\n    SELECT COUNT(*) FROM players WHERE username LIKE '%admin%';\\n\\n    ### SQL 봇의 결과:\\n    SELECT COUNT(*)\"\n",
      "  }\n",
      "]\n"
     ]
    }
   ],
   "source": [
    "model_name = \"beomi/Yi-Ko-6B\"\n",
    "\n",
    "hf_pipe = make_inference_pipeline(model_name)\n",
    "\n",
    "example = \"\"\"당신은 SQL을 생성하는 SQL 봇입니다. DDL의 테이블을 활용한 Question을 해결할 수 있는 SQL을 생성해주세요.\n",
    "    \n",
    "    ### DDL:\n",
    "    CREATE TABLE players (\n",
    "        player_id INT PRIMARY KEY, AUTO_INCREMENT,\n",
    "        username VARCHAR(255) UNIQUE NOT NULL,\n",
    "        email VARCHAR(255) UNIQUE NOT NULL,\n",
    "        password_hash VARCHAR(255) NOT NULL,\n",
    "        date_joined DATETIME NOT NULL,\n",
    "        last_login DATETIME NOT NULL\n",
    "    );\n",
    "\n",
    "    ### Question:\n",
    "    사용자의 이름에 'admin'이 포함되어 있는 계정의 수를 알려주세요.\n",
    "\n",
    "    ### SQL:\n",
    "    \"\"\"\n",
    "\n",
    "results = hf_pipe(example, do_sample=False, return_full_text=False, max_length=1024, truncation=True)\n",
    "import json\n",
    "print(json.dumps(results, indent=2, ensure_ascii=False))\n"
   ]
  },
  {
   "cell_type": "code",
   "execution_count": null,
   "metadata": {},
   "outputs": [],
   "source": []
  }
 ],
 "metadata": {
  "kernelspec": {
   "display_name": "ai",
   "language": "python",
   "name": "python3"
  },
  "language_info": {
   "codemirror_mode": {
    "name": "ipython",
    "version": 3
   },
   "file_extension": ".py",
   "mimetype": "text/x-python",
   "name": "python",
   "nbconvert_exporter": "python",
   "pygments_lexer": "ipython3",
   "version": "3.11.10"
  }
 },
 "nbformat": 4,
 "nbformat_minor": 2
}
