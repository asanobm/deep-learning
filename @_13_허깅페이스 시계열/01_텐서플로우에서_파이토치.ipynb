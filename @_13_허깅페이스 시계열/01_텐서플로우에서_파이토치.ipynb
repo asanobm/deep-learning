{
 "cells": [
  {
   "cell_type": "markdown",
   "metadata": {},
   "source": [
    "# 텐서플로우에서 파이토치로 시계열 데이터 예측하기\n",
    "\n",
    "## 목표\n",
    "\n",
    "- 시계열 데이터를 다루는 텐서플로우 튜토리얼을 파이토치로 옮겨보기\n",
    "- 파이토치로 시계열 데이터를 다루는 방법을 익히기\n",
    "\n",
    "## 데이터셋\n",
    "- 날씨 데이터셋 "
   ]
  },
  {
   "cell_type": "code",
   "execution_count": 1,
   "metadata": {},
   "outputs": [
    {
     "data": {
      "text/plain": [
       "DatasetDict({\n",
       "    train: Dataset({\n",
       "        features: ['p (mbar)', 'T (degC)', 'Tpot (K)', 'Tdew (degC)', 'rh (%)', 'VPmax (mbar)', 'VPact (mbar)', 'VPdef (mbar)', 'sh (g/kg)', 'H2OC (mmol/mol)', 'rho (g/m**3)', 'Wx', 'Wy', 'max Wx', 'max Wy', 'Day sin', 'Day cos', 'Year sin', 'Year cos'],\n",
       "        num_rows: 49063\n",
       "    })\n",
       "    validation: Dataset({\n",
       "        features: ['p (mbar)', 'T (degC)', 'Tpot (K)', 'Tdew (degC)', 'rh (%)', 'VPmax (mbar)', 'VPact (mbar)', 'VPdef (mbar)', 'sh (g/kg)', 'H2OC (mmol/mol)', 'rho (g/m**3)', 'Wx', 'Wy', 'max Wx', 'max Wy', 'Day sin', 'Day cos', 'Year sin', 'Year cos'],\n",
       "        num_rows: 14018\n",
       "    })\n",
       "    test: Dataset({\n",
       "        features: ['p (mbar)', 'T (degC)', 'Tpot (K)', 'Tdew (degC)', 'rh (%)', 'VPmax (mbar)', 'VPact (mbar)', 'VPdef (mbar)', 'sh (g/kg)', 'H2OC (mmol/mol)', 'rho (g/m**3)', 'Wx', 'Wy', 'max Wx', 'max Wy', 'Day sin', 'Day cos', 'Year sin', 'Year cos'],\n",
       "        num_rows: 7010\n",
       "    })\n",
       "})"
      ]
     },
     "execution_count": 1,
     "metadata": {},
     "output_type": "execute_result"
    }
   ],
   "source": [
    "from datasets import load_dataset\n",
    "dataset = load_dataset(\"asanobm/jena_climate_2009_2016\")\n",
    "dataset"
   ]
  },
  {
   "cell_type": "code",
   "execution_count": 2,
   "metadata": {},
   "outputs": [],
   "source": [
    "train_df = dataset['train'].to_pandas()\n",
    "val_df = dataset['validation'].to_pandas()\n",
    "test_df = dataset['test'].to_pandas()"
   ]
  },
  {
   "cell_type": "markdown",
   "metadata": {},
   "source": [
    "## 데이터 창 작업\n",
    "\n",
    "연속된 샘플 윈도우를 만들어 일련의 예측을 수행한다.\n",
    "\n",
    "입력 윈도우의 주요 특성\n",
    "\n",
    "* 입력 및 레이블 윈도우의 너비 (타임스텝 수)\n",
    "* 입력, 레이블 또는 둘 모두로 사용되는 특성\n",
    "\n",
    "## 모델\n",
    "\n",
    "* 단일 출력 및 다중 출력 예측\n",
    "* 단일 타임스텝 및 다중 타임스텝 예측\n",
    "\n"
   ]
  },
  {
   "cell_type": "code",
   "execution_count": 3,
   "metadata": {},
   "outputs": [],
   "source": [
    "# Window Generator\n",
    "import matplotlib.pyplot as plt\n",
    "import numpy as np\n",
    "import torch\n",
    "\n",
    "class WindowGenerator():\n",
    "    \"\"\"\n",
    "    시계열 데이터를 위한 윈도우 생성기 클래스입니다.\n",
    "    이 클래스는 주어진 입력 폭, 라벨 폭, 이동 크기 등을 기반으로\n",
    "    학습, 검증, 테스트 데이터프레임에서 윈도우를 생성합니다.\n",
    "    Attributes:\n",
    "        train_df (pd.DataFrame): 학습 데이터프레임.\n",
    "        val_df (pd.DataFrame): 검증 데이터프레임.\n",
    "        test_df (pd.DataFrame): 테스트 데이터프레임.\n",
    "        label_columns (list of str): 라벨 열 이름 리스트.\n",
    "        label_columns_indices (dict): 라벨 열 이름과 인덱스의 딕셔너리.\n",
    "        column_indices (dict): 모든 열 이름과 인덱스의 딕셔너리.\n",
    "        input_width (int): 입력 폭.\n",
    "        label_width (int): 라벨 폭.\n",
    "        shift (int): 이동 크기.\n",
    "        total_window_size (int): 전체 윈도우 크기.\n",
    "        input_slice (slice): 입력 슬라이스 객체.\n",
    "        input_indices (np.ndarray): 입력 인덱스 배열.\n",
    "        label_start (int): 라벨 시작 인덱스.\n",
    "        labels_slice (slice): 라벨 슬라이스 객체.\n",
    "        label_indices (np.ndarray): 라벨 인덱스 배열.\n",
    "    Methods:\n",
    "        __repr__():\n",
    "        split_window(features):\n",
    "            주어진 특징 배열을 입력과 라벨로 분할합니다.\n",
    "            Args:\n",
    "                features (np.ndarray): 특징 배열.\n",
    "                tuple: 입력과 라벨 배열의 튜플.\n",
    "\n",
    "    \"\"\"\n",
    "    def __init__(self,\n",
    "                 input_width,\n",
    "                 label_width,\n",
    "                 shift,\n",
    "                 train_df,\n",
    "                 val_df,\n",
    "                 test_df,\n",
    "                 label_columns=None,\n",
    "                 ):\n",
    "        # Store the raw data.\n",
    "        self.train_df = train_df\n",
    "        self.val_df = val_df\n",
    "        self.test_df = test_df\n",
    "\n",
    "        # Work out the label column indices.\n",
    "        self.label_columns = label_columns\n",
    "        if label_columns is not None:\n",
    "            self.label_columns_indices = {name: i for i, name in\n",
    "                                           enumerate(label_columns)}\n",
    "        self.column_indices = {name: i for i, name in enumerate(train_df.columns)}\n",
    "\n",
    "        # Work out the window parameters.\n",
    "        self.input_width = input_width\n",
    "        self.label_width = label_width\n",
    "        self.shift = shift\n",
    "\n",
    "        self.total_window_size = input_width + shift\n",
    "        self.input_slice = slice(0, input_width)\n",
    "        self.input_indices = np.arange(self.total_window_size)[self.input_slice]\n",
    "\n",
    "        self.label_start = self.total_window_size - self.label_width\n",
    "        self.labels_slice = slice(self.label_start, None)\n",
    "        self.label_indices = np.arange(self.total_window_size)[self.labels_slice]\n",
    "\n",
    "    def __repr__(self):\n",
    "        \"\"\"\n",
    "        객체의 문자열 표현을 반환합니다.\n",
    "\n",
    "        반환되는 문자열은 다음 정보를 포함합니다:\n",
    "        - 전체 윈도우 크기\n",
    "        - 입력 인덱스\n",
    "        - 라벨 인덱스\n",
    "        - 라벨 열 이름(들)\n",
    "\n",
    "        Returns:\n",
    "            str: 객체의 문자열 표현\n",
    "        \"\"\"\n",
    "        return '\\n'.join([\n",
    "            f'Total window size: {self.total_window_size}',\n",
    "            f'Input indices: {self.input_indices}',\n",
    "            f'Label indices: {self.label_indices}',\n",
    "            f'Label column name(s): {self.label_columns}'])\n",
    "    \n",
    "    def split_window(self, features):\n",
    "        inputs = features[:, self.input_slice, :]\n",
    "        labels = features[:, self.labels_slice, :]\n",
    "        if self.label_columns is not None:\n",
    "            labels = torch.stack(\n",
    "                [labels[:, :, self.column_indices[name]] for name in self.label_columns],\n",
    "                axis=-1)\n",
    "\n",
    "        # Slicing doesn't preserve static shape information in TensorFlow,\n",
    "        # but this is not needed for PyTorch tensors.\n",
    "\n",
    "        return inputs, labels\n",
    "    \n",
    "    def make_dataset(self, data):\n",
    "        \"\"\"\n",
    "        주어진 데이터를 PyTorch 데이터셋으로 변환합니다.\n",
    "\n",
    "        Args:\n",
    "            data (array-like): 변환할 데이터. float32 타입의 numpy 배열로 변환됩니다.\n",
    "\n",
    "        Returns:\n",
    "            DataLoader: 변환된 데이터셋을 포함하는 DataLoader 객체. 배치 크기는 32이며, 셔플이 적용됩니다.\n",
    "        \"\"\"\n",
    "        data = np.array(data, dtype=np.float32)\n",
    "        ds = torch.utils.data.TensorDataset(torch.tensor(data, dtype=torch.float32))\n",
    "        ds = torch.utils.data.DataLoader(ds, batch_size=32, shuffle=True)\n",
    "        ds = ds.map(self.split_window)\n",
    "        return ds\n",
    "        \n",
    "    \n",
    "    def plot(self, model=None, plot_col='T (degC)', max_subplots=3):\n",
    "        \"\"\"\n",
    "        모델의 예측 결과를 시각화하는 함수입니다.\n",
    "        Args:\n",
    "            model (tf.keras.Model, optional): 예측을 수행할 모델입니다. 기본값은 None입니다.\n",
    "            plot_col (str, optional): 시각화할 열의 이름입니다. 기본값은 'T (degC)'입니다.\n",
    "            max_subplots (int, optional): 최대 서브플롯의 개수입니다. 기본값은 3입니다.\n",
    "        Example:\n",
    "            window.plot(model=my_model, plot_col='T (degC)', max_subplots=3)\n",
    "        Notes:\n",
    "            - 입력 데이터와 레이블 데이터를 시각화합니다.\n",
    "            - 모델이 제공된 경우, 모델의 예측 결과도 시각화합니다.\n",
    "            - 최대 서브플롯의 개수는 max_subplots 인수로 조정할 수 있습니다.\n",
    "        \"\"\"\n",
    "        inputs, labels = self.example\n",
    "        plt.figure(figsize=(12, 8))\n",
    "        plot_col_index = self.column_indices[plot_col]\n",
    "        max_n = min(max_subplots, len(inputs))\n",
    "        for n in range(max_n):\n",
    "            plt.subplot(max_n, 1, n+1)\n",
    "            plt.ylabel(f'{plot_col} [normed]')\n",
    "            plt.plot(self.input_indices, inputs[n, :, plot_col_index],\n",
    "                     label='Inputs', marker='.', zorder=-10)\n",
    "\n",
    "            if self.label_columns:\n",
    "                label_col_index = self.label_columns_indices.get(plot_col, None)\n",
    "            else:\n",
    "                label_col_index = plot_col_index\n",
    "\n",
    "            if label_col_index is None:\n",
    "                continue\n",
    "            \n",
    "            plt.scatter(self.label_indices, labels[n, :, label_col_index],\n",
    "                        edgecolors='k', label='Labels', c='#2ca02c', s=64)\n",
    "            if model is not None:\n",
    "                predictions = model(inputs)\n",
    "                plt.scatter(self.label_indices, predictions[n, :, label_col_index],\n",
    "                            marker='X', edgecolors='k', label='Predictions',\n",
    "                            c='#ff7f0e', s=64)\n",
    "                \n",
    "            if n == 0:\n",
    "                plt.legend()\n",
    "\n",
    "\n",
    "    @property\n",
    "    def train(self):\n",
    "        return self.make_dataset(self.train_df)\n",
    "    \n",
    "    @property\n",
    "    def val(self):\n",
    "        return self.make_dataset(self.val_df)\n",
    "    \n",
    "    @property\n",
    "    def test(self):\n",
    "        return self.make_dataset(self.test_df)\n",
    "    \n",
    "    @property\n",
    "    def example(self):\n",
    "        \"\"\"\n",
    "        학습 데이터셋에서 예제 배치를 반환합니다.\n",
    "\n",
    "        Returns:\n",
    "            tuple: 입력 데이터와 레이블 데이터의 튜플.\n",
    "        \"\"\"\n",
    "        result = next(iter(self.train))\n",
    "        return result"
   ]
  },
  {
   "cell_type": "code",
   "execution_count": 4,
   "metadata": {},
   "outputs": [
    {
     "data": {
      "text/plain": [
       "Total window size: 48\n",
       "Input indices: [ 0  1  2  3  4  5  6  7  8  9 10 11 12 13 14 15 16 17 18 19 20 21 22 23]\n",
       "Label indices: [47]\n",
       "Label column name(s): ['T (degC)']"
      ]
     },
     "execution_count": 4,
     "metadata": {},
     "output_type": "execute_result"
    }
   ],
   "source": [
    "w1 = WindowGenerator(\n",
    "    train_df=train_df, \n",
    "    val_df=val_df,\n",
    "    test_df=test_df,\n",
    "    input_width=24, \n",
    "    label_width=1,\n",
    "    shift=24,\n",
    "    label_columns=['T (degC)']\n",
    "    )\n",
    "w1"
   ]
  },
  {
   "cell_type": "code",
   "execution_count": 5,
   "metadata": {},
   "outputs": [
    {
     "data": {
      "text/plain": [
       "Total window size: 7\n",
       "Input indices: [0 1 2 3 4 5]\n",
       "Label indices: [6]\n",
       "Label column name(s): ['T (degC)']"
      ]
     },
     "execution_count": 5,
     "metadata": {},
     "output_type": "execute_result"
    }
   ],
   "source": [
    "w2 = WindowGenerator(\n",
    "    train_df=train_df, \n",
    "    val_df=val_df,\n",
    "    test_df=test_df,\n",
    "    input_width=6, \n",
    "    label_width=1,\n",
    "    shift=1,\n",
    "    label_columns=['T (degC)']\n",
    "    )\n",
    "w2"
   ]
  },
  {
   "cell_type": "code",
   "execution_count": 6,
   "metadata": {},
   "outputs": [
    {
     "name": "stdout",
     "output_type": "stream",
     "text": [
      "All shapes are: (batch, time, features)\n",
      "Window shape: torch.Size([3, 7, 19])\n",
      "Inputs shape: torch.Size([3, 6, 19])\n",
      "Labels shape: torch.Size([3, 1, 1])\n"
     ]
    }
   ],
   "source": [
    "# Stack three slices, the length of the total window.\n",
    "example_window = torch.stack([\n",
    "        torch.tensor(train_df[:w2.total_window_size].values),\n",
    "        torch.tensor(train_df[100:100+w2.total_window_size].values),\n",
    "        torch.tensor(train_df[200:200+w2.total_window_size].values),\n",
    "        ]\n",
    ")\n",
    "\n",
    "example_inputs, example_labels = w2.split_window(example_window)\n",
    "\n",
    "print('All shapes are: (batch, time, features)')\n",
    "print(f'Window shape: {example_window.shape}')\n",
    "print(f'Inputs shape: {example_inputs.shape}')\n",
    "print(f'Labels shape: {example_labels.shape}')"
   ]
  },
  {
   "cell_type": "markdown",
   "metadata": {},
   "source": [
    "### 시각화"
   ]
  },
  {
   "cell_type": "code",
   "execution_count": 10,
   "metadata": {},
   "outputs": [
    {
     "ename": "AttributeError",
     "evalue": "'DataLoader' object has no attribute 'map'",
     "output_type": "error",
     "traceback": [
      "\u001b[0;31m---------------------------------------------------------------------------\u001b[0m",
      "\u001b[0;31mAttributeError\u001b[0m                            Traceback (most recent call last)",
      "Cell \u001b[0;32mIn[10], line 1\u001b[0m\n\u001b[0;32m----> 1\u001b[0m \u001b[43mw2\u001b[49m\u001b[38;5;241;43m.\u001b[39;49m\u001b[43mplot\u001b[49m\u001b[43m(\u001b[49m\u001b[43m)\u001b[49m\n",
      "Cell \u001b[0;32mIn[3], line 133\u001b[0m, in \u001b[0;36mWindowGenerator.plot\u001b[0;34m(self, model, plot_col, max_subplots)\u001b[0m\n\u001b[1;32m    119\u001b[0m \u001b[38;5;28;01mdef\u001b[39;00m \u001b[38;5;21mplot\u001b[39m(\u001b[38;5;28mself\u001b[39m, model\u001b[38;5;241m=\u001b[39m\u001b[38;5;28;01mNone\u001b[39;00m, plot_col\u001b[38;5;241m=\u001b[39m\u001b[38;5;124m'\u001b[39m\u001b[38;5;124mT (degC)\u001b[39m\u001b[38;5;124m'\u001b[39m, max_subplots\u001b[38;5;241m=\u001b[39m\u001b[38;5;241m3\u001b[39m):\n\u001b[1;32m    120\u001b[0m \u001b[38;5;250m    \u001b[39m\u001b[38;5;124;03m\"\"\"\u001b[39;00m\n\u001b[1;32m    121\u001b[0m \u001b[38;5;124;03m    모델의 예측 결과를 시각화하는 함수입니다.\u001b[39;00m\n\u001b[1;32m    122\u001b[0m \u001b[38;5;124;03m    Args:\u001b[39;00m\n\u001b[0;32m   (...)\u001b[0m\n\u001b[1;32m    131\u001b[0m \u001b[38;5;124;03m        - 최대 서브플롯의 개수는 max_subplots 인수로 조정할 수 있습니다.\u001b[39;00m\n\u001b[1;32m    132\u001b[0m \u001b[38;5;124;03m    \"\"\"\u001b[39;00m\n\u001b[0;32m--> 133\u001b[0m     inputs, labels \u001b[38;5;241m=\u001b[39m \u001b[38;5;28;43mself\u001b[39;49m\u001b[38;5;241;43m.\u001b[39;49m\u001b[43mexample\u001b[49m\n\u001b[1;32m    134\u001b[0m     plt\u001b[38;5;241m.\u001b[39mfigure(figsize\u001b[38;5;241m=\u001b[39m(\u001b[38;5;241m12\u001b[39m, \u001b[38;5;241m8\u001b[39m))\n\u001b[1;32m    135\u001b[0m     plot_col_index \u001b[38;5;241m=\u001b[39m \u001b[38;5;28mself\u001b[39m\u001b[38;5;241m.\u001b[39mcolumn_indices[plot_col]\n",
      "Cell \u001b[0;32mIn[3], line 183\u001b[0m, in \u001b[0;36mWindowGenerator.example\u001b[0;34m(self)\u001b[0m\n\u001b[1;32m    175\u001b[0m \u001b[38;5;129m@property\u001b[39m\n\u001b[1;32m    176\u001b[0m \u001b[38;5;28;01mdef\u001b[39;00m \u001b[38;5;21mexample\u001b[39m(\u001b[38;5;28mself\u001b[39m):\n\u001b[1;32m    177\u001b[0m \u001b[38;5;250m    \u001b[39m\u001b[38;5;124;03m\"\"\"\u001b[39;00m\n\u001b[1;32m    178\u001b[0m \u001b[38;5;124;03m    학습 데이터셋에서 예제 배치를 반환합니다.\u001b[39;00m\n\u001b[1;32m    179\u001b[0m \n\u001b[1;32m    180\u001b[0m \u001b[38;5;124;03m    Returns:\u001b[39;00m\n\u001b[1;32m    181\u001b[0m \u001b[38;5;124;03m        tuple: 입력 데이터와 레이블 데이터의 튜플.\u001b[39;00m\n\u001b[1;32m    182\u001b[0m \u001b[38;5;124;03m    \"\"\"\u001b[39;00m\n\u001b[0;32m--> 183\u001b[0m     result \u001b[38;5;241m=\u001b[39m \u001b[38;5;28mnext\u001b[39m(\u001b[38;5;28miter\u001b[39m(\u001b[38;5;28;43mself\u001b[39;49m\u001b[38;5;241;43m.\u001b[39;49m\u001b[43mtrain\u001b[49m))\n\u001b[1;32m    184\u001b[0m     \u001b[38;5;28;01mreturn\u001b[39;00m result\n",
      "Cell \u001b[0;32mIn[3], line 165\u001b[0m, in \u001b[0;36mWindowGenerator.train\u001b[0;34m(self)\u001b[0m\n\u001b[1;32m    163\u001b[0m \u001b[38;5;129m@property\u001b[39m\n\u001b[1;32m    164\u001b[0m \u001b[38;5;28;01mdef\u001b[39;00m \u001b[38;5;21mtrain\u001b[39m(\u001b[38;5;28mself\u001b[39m):\n\u001b[0;32m--> 165\u001b[0m     \u001b[38;5;28;01mreturn\u001b[39;00m \u001b[38;5;28;43mself\u001b[39;49m\u001b[38;5;241;43m.\u001b[39;49m\u001b[43mmake_dataset\u001b[49m\u001b[43m(\u001b[49m\u001b[38;5;28;43mself\u001b[39;49m\u001b[38;5;241;43m.\u001b[39;49m\u001b[43mtrain_df\u001b[49m\u001b[43m)\u001b[49m\n",
      "Cell \u001b[0;32mIn[3], line 115\u001b[0m, in \u001b[0;36mWindowGenerator.make_dataset\u001b[0;34m(self, data)\u001b[0m\n\u001b[1;32m    113\u001b[0m ds \u001b[38;5;241m=\u001b[39m torch\u001b[38;5;241m.\u001b[39mutils\u001b[38;5;241m.\u001b[39mdata\u001b[38;5;241m.\u001b[39mTensorDataset(torch\u001b[38;5;241m.\u001b[39mtensor(data, dtype\u001b[38;5;241m=\u001b[39mtorch\u001b[38;5;241m.\u001b[39mfloat32))\n\u001b[1;32m    114\u001b[0m ds \u001b[38;5;241m=\u001b[39m torch\u001b[38;5;241m.\u001b[39mutils\u001b[38;5;241m.\u001b[39mdata\u001b[38;5;241m.\u001b[39mDataLoader(ds, batch_size\u001b[38;5;241m=\u001b[39m\u001b[38;5;241m32\u001b[39m, shuffle\u001b[38;5;241m=\u001b[39m\u001b[38;5;28;01mTrue\u001b[39;00m)\n\u001b[0;32m--> 115\u001b[0m ds \u001b[38;5;241m=\u001b[39m \u001b[43mds\u001b[49m\u001b[38;5;241;43m.\u001b[39;49m\u001b[43mmap\u001b[49m(\u001b[38;5;28mself\u001b[39m\u001b[38;5;241m.\u001b[39msplit_window)\n\u001b[1;32m    116\u001b[0m \u001b[38;5;28;01mreturn\u001b[39;00m ds\n",
      "\u001b[0;31mAttributeError\u001b[0m: 'DataLoader' object has no attribute 'map'"
     ]
    }
   ],
   "source": [
    "w2.plot()"
   ]
  },
  {
   "cell_type": "code",
   "execution_count": null,
   "metadata": {},
   "outputs": [],
   "source": []
  }
 ],
 "metadata": {
  "kernelspec": {
   "display_name": "ai",
   "language": "python",
   "name": "python3"
  },
  "language_info": {
   "codemirror_mode": {
    "name": "ipython",
    "version": 3
   },
   "file_extension": ".py",
   "mimetype": "text/x-python",
   "name": "python",
   "nbconvert_exporter": "python",
   "pygments_lexer": "ipython3",
   "version": "3.11.10"
  }
 },
 "nbformat": 4,
 "nbformat_minor": 2
}
